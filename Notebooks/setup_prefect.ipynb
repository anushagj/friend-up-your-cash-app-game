{
 "cells": [
  {
   "cell_type": "markdown",
   "metadata": {},
   "source": [
    "# Setup git cloning "
   ]
  },
  {
   "cell_type": "code",
   "execution_count": null,
   "metadata": {
    "colab": {
     "base_uri": "https://localhost:8080/"
    },
    "id": "jK3n8aNHeUaD",
    "outputId": "0775a906-fdb2-41de-f591-3617d85dceee"
   },
   "outputs": [],
   "source": [
    "! git clone https://github.com/anushagj/friend-up-your-cash-app-game.git\n",
    "! pip install prefect==1.0 -U"
   ]
  },
  {
   "cell_type": "markdown",
   "metadata": {},
   "source": [
    "# Prefect Tutorial "
   ]
  },
  {
   "cell_type": "code",
   "execution_count": 4,
   "metadata": {
    "colab": {
     "base_uri": "https://localhost:8080/",
     "height": 105
    },
    "id": "34kWgzrhd4ud",
    "outputId": "d870bc8f-f46e-41f1-e589-4f4ab70a02da"
   },
   "outputs": [
    {
     "name": "stdout",
     "output_type": "stream",
     "text": [
      "[2023-08-18 10:00:23+0000] INFO - prefect.FlowRunner | Beginning Flow run for 'hello-flow'\n",
      "[2023-08-18 10:00:23+0000] INFO - prefect.TaskRunner | Task 'hello_task': Starting task run...\n",
      "[2023-08-18 10:00:23+0000] INFO - prefect.hello_task | Hello world!\n",
      "[2023-08-18 10:00:23+0000] INFO - prefect.TaskRunner | Task 'hello_task': Finished task run for task with final state: 'Success'\n",
      "[2023-08-18 10:00:23+0000] INFO - prefect.FlowRunner | Flow run SUCCESS: all reference tasks succeeded\n"
     ]
    },
    {
     "data": {
      "text/plain": [
       "<Success: \"All reference tasks succeeded.\">"
      ]
     },
     "execution_count": 4,
     "metadata": {},
     "output_type": "execute_result"
    }
   ],
   "source": [
    "import prefect\n",
    "from prefect import task, Flow\n",
    "@task\n",
    "def hello_task():\n",
    "  logger = prefect.context.get(\"logger\")\n",
    "  logger.info(\"Hello world!\")\n",
    "\n",
    "flow = Flow(\"hello-flow\", tasks=[hello_task])\n",
    "flow.run()\n"
   ]
  },
  {
   "cell_type": "markdown",
   "metadata": {},
   "source": [
    "# Setup Prefect Cloud"
   ]
  },
  {
   "cell_type": "code",
   "execution_count": null,
   "metadata": {},
   "outputs": [
    {
     "name": "stdout",
     "output_type": "stream",
     "text": [
      "[2023-08-18 10:05:36,401] INFO - agent | Registering agent...\n",
      "[2023-08-18 10:05:36,821] INFO - agent | Registration successful!\n",
      "\n",
      " ____            __           _        _                    _\n",
      "|  _ \\ _ __ ___ / _| ___  ___| |_     / \\   __ _  ___ _ __ | |_\n",
      "| |_) | '__/ _ \\ |_ / _ \\/ __| __|   / _ \\ / _` |/ _ \\ '_ \\| __|\n",
      "|  __/| | |  __/  _|  __/ (__| |_   / ___ \\ (_| |  __/ | | | |_\n",
      "|_|   |_|  \\___|_|  \\___|\\___|\\__| /_/   \\_\\__, |\\___|_| |_|\\__|\n",
      "                                           |___/\n",
      "\n",
      "[2023-08-18 10:05:37,228] INFO - agent | Starting LocalAgent with labels ['1138c363a735']\n",
      "[2023-08-18 10:05:37,228] INFO - agent | Agent documentation can be found at https://docs.prefect.io/orchestration/\n",
      "[2023-08-18 10:05:37,228] INFO - agent | Waiting for flow runs...\n",
      "[2023-08-18 10:08:57,116] INFO - agent | Deploying flow run 1458fe29-bf9c-46f7-8dc3-c1f07f10c18d to execution environment...\n",
      "[2023-08-18 10:08:57,492] INFO - agent | Completed deployment of flow run 1458fe29-bf9c-46f7-8dc3-c1f07f10c18d\n"
     ]
    }
   ],
   "source": [
    "! prefect agent local start"
   ]
  },
  {
   "cell_type": "code",
   "execution_count": 10,
   "metadata": {},
   "outputs": [
    {
     "name": "stdout",
     "output_type": "stream",
     "text": [
      "\u001b[32mLogged in to Prefect Cloud tenant \"julietest96@gmail.com's Account\" (julietest96-gmail-com-s-account)\u001b[0m\n"
     ]
    }
   ],
   "source": [
    "! prefect auth login --key {PASTE_API_KEY}\n"
   ]
  },
  {
   "cell_type": "code",
   "execution_count": null,
   "metadata": {},
   "outputs": [],
   "source": [
    "! prefect create project cash_find_friends"
   ]
  },
  {
   "cell_type": "code",
   "execution_count": 11,
   "metadata": {
    "colab": {
     "base_uri": "https://localhost:8080/"
    },
    "id": "CcKaItqlcEEt",
    "outputId": "4b9e726e-1790-4ff7-e157-3a7c80b170c9"
   },
   "outputs": [
    {
     "name": "stdout",
     "output_type": "stream",
     "text": [
      "Flow URL: https://cloud.prefect.io/julietest96-gmail-com-s-account/flow/33d8a45b-a607-45b5-8f9e-0791edc8f94a\n",
      " └── ID: e386800a-6b05-41a9-a4fe-6faaec3438fc\n",
      " └── Project: cash_find_friends\n",
      " └── Labels: ['1138c363a735']\n"
     ]
    },
    {
     "data": {
      "text/plain": [
       "'e386800a-6b05-41a9-a4fe-6faaec3438fc'"
      ]
     },
     "execution_count": 11,
     "metadata": {},
     "output_type": "execute_result"
    }
   ],
   "source": [
    "flow.register(project_name=\"cash_find_friends\")"
   ]
  },
  {
   "cell_type": "code",
   "execution_count": null,
   "metadata": {},
   "outputs": [],
   "source": [
    "Next we follow the link that was generated and select quick run and we will see our flow run in the cloud !"
   ]
  },
  {
   "cell_type": "markdown",
   "metadata": {
    "id": "bAgG2CiQcYyU"
   },
   "source": [
    "# New Section"
   ]
  }
 ],
 "metadata": {
  "colab": {
   "provenance": []
  },
  "kernelspec": {
   "display_name": "Python 3 (ipykernel)",
   "language": "python",
   "name": "python3"
  },
  "language_info": {
   "codemirror_mode": {
    "name": "ipython",
    "version": 3
   },
   "file_extension": ".py",
   "mimetype": "text/x-python",
   "name": "python",
   "nbconvert_exporter": "python",
   "pygments_lexer": "ipython3",
   "version": "3.8.0"
  }
 },
 "nbformat": 4,
 "nbformat_minor": 4
}
