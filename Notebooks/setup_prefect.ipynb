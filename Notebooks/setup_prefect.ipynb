{
 "cells": [
  {
   "cell_type": "markdown",
   "metadata": {},
   "source": [
    "# Setup git cloning "
   ]
  },
  {
   "cell_type": "code",
   "execution_count": null,
   "metadata": {
    "colab": {
     "base_uri": "https://localhost:8080/"
    },
    "id": "jK3n8aNHeUaD",
    "outputId": "0775a906-fdb2-41de-f591-3617d85dceee"
   },
   "outputs": [],
   "source": [
    "\n",
    "! git clone https://github.com/anushagj/friend-up-your-cash-app-game.git\n",
    "! pip install prefect==1.0 -U"
   ]
  },
  {
   "cell_type": "markdown",
   "metadata": {},
   "source": [
    "# Prefect Tutorial "
   ]
  },
  {
   "cell_type": "code",
   "execution_count": 4,
   "metadata": {
    "colab": {
     "base_uri": "https://localhost:8080/",
     "height": 105
    },
    "id": "34kWgzrhd4ud",
    "outputId": "d870bc8f-f46e-41f1-e589-4f4ab70a02da"
   },
   "outputs": [
    {
     "name": "stdout",
     "output_type": "stream",
     "text": [
      "[2023-08-18 10:00:23+0000] INFO - prefect.FlowRunner | Beginning Flow run for 'hello-flow'\n",
      "[2023-08-18 10:00:23+0000] INFO - prefect.TaskRunner | Task 'hello_task': Starting task run...\n",
      "[2023-08-18 10:00:23+0000] INFO - prefect.hello_task | Hello world!\n",
      "[2023-08-18 10:00:23+0000] INFO - prefect.TaskRunner | Task 'hello_task': Finished task run for task with final state: 'Success'\n",
      "[2023-08-18 10:00:23+0000] INFO - prefect.FlowRunner | Flow run SUCCESS: all reference tasks succeeded\n"
     ]
    },
    {
     "data": {
      "text/plain": [
       "<Success: \"All reference tasks succeeded.\">"
      ]
     },
     "execution_count": 4,
     "metadata": {},
     "output_type": "execute_result"
    }
   ],
   "source": [
    "import prefect\n",
    "from prefect import task, Flow\n",
    "@task\n",
    "def hello_task():\n",
    "  logger = prefect.context.get(\"logger\")\n",
    "  logger.info(\"Hello world!\")\n",
    "\n",
    "flow = Flow(\"hello-flow\", tasks=[hello_task])\n",
    "flow.run()\n"
   ]
  },
  {
   "cell_type": "markdown",
   "metadata": {},
   "source": [
    "# Setup Prefect Cloud"
   ]
  },
  {
   "cell_type": "code",
   "execution_count": null,
   "metadata": {},
   "outputs": [
    {
     "name": "stdout",
     "output_type": "stream",
     "text": [
      "[2023-08-18 10:05:36,401] INFO - agent | Registering agent...\n",
      "[2023-08-18 10:05:36,821] INFO - agent | Registration successful!\n",
      "\n",
      " ____            __           _        _                    _\n",
      "|  _ \\ _ __ ___ / _| ___  ___| |_     / \\   __ _  ___ _ __ | |_\n",
      "| |_) | '__/ _ \\ |_ / _ \\/ __| __|   / _ \\ / _` |/ _ \\ '_ \\| __|\n",
      "|  __/| | |  __/  _|  __/ (__| |_   / ___ \\ (_| |  __/ | | | |_\n",
      "|_|   |_|  \\___|_|  \\___|\\___|\\__| /_/   \\_\\__, |\\___|_| |_|\\__|\n",
      "                                           |___/\n",
      "\n",
      "[2023-08-18 10:05:37,228] INFO - agent | Starting LocalAgent with labels ['1138c363a735']\n",
      "[2023-08-18 10:05:37,228] INFO - agent | Agent documentation can be found at https://docs.prefect.io/orchestration/\n",
      "[2023-08-18 10:05:37,228] INFO - agent | Waiting for flow runs...\n",
      "[2023-08-18 10:08:57,116] INFO - agent | Deploying flow run 1458fe29-bf9c-46f7-8dc3-c1f07f10c18d to execution environment...\n",
      "[2023-08-18 10:08:57,492] INFO - agent | Completed deployment of flow run 1458fe29-bf9c-46f7-8dc3-c1f07f10c18d\n"
     ]
    }
   ],
   "source": [
    "! prefect agent local start"
   ]
  },
  {
   "cell_type": "code",
   "execution_count": 10,
   "metadata": {},
   "outputs": [
    {
     "name": "stdout",
     "output_type": "stream",
     "text": [
      "\u001B[32mLogged in to Prefect Cloud tenant \"julietest96@gmail.com's Account\" (julietest96-gmail-com-s-account)\u001B[0m\n"
     ]
    }
   ],
   "source": [
    "! prefect auth login --key {PASTE_API_KEY}\n"
   ]
  },
  {
   "cell_type": "code",
   "execution_count": null,
   "metadata": {},
   "outputs": [],
   "source": [
    "! prefect create project cash_find_friends"
   ]
  },
  {
   "cell_type": "code",
   "execution_count": 11,
   "metadata": {
    "colab": {
     "base_uri": "https://localhost:8080/"
    },
    "id": "CcKaItqlcEEt",
    "outputId": "4b9e726e-1790-4ff7-e157-3a7c80b170c9"
   },
   "outputs": [
    {
     "name": "stdout",
     "output_type": "stream",
     "text": [
      "Flow URL: https://cloud.prefect.io/julietest96-gmail-com-s-account/flow/33d8a45b-a607-45b5-8f9e-0791edc8f94a\n",
      " └── ID: e386800a-6b05-41a9-a4fe-6faaec3438fc\n",
      " └── Project: cash_find_friends\n",
      " └── Labels: ['1138c363a735']\n"
     ]
    },
    {
     "data": {
      "text/plain": [
       "'e386800a-6b05-41a9-a4fe-6faaec3438fc'"
      ]
     },
     "execution_count": 11,
     "metadata": {},
     "output_type": "execute_result"
    }
   ],
   "source": [
    "flow.register(project_name=\"cash_find_friends\")"
   ]
  },
  {
   "cell_type": "code",
   "execution_count": null,
   "metadata": {},
   "outputs": [],
   "source": [
    "Next we follow the link that was generated and select quick run and we will see our flow run in the cloud !"
   ]
  },
  {
   "cell_type": "code",
   "execution_count": null,
   "outputs": [],
   "source": [
    "! prefect agent local start"
   ],
   "metadata": {
    "collapsed": false
   }
  },
  {
   "cell_type": "code",
   "execution_count": null,
   "outputs": [],
   "source": [
    "import parquet\n",
    "import os\n",
    "from google.cloud import bigquery\n",
    "from prefect import task, Flow, Parameter\n",
    "\n",
    "#TO BE UPDATED BY YOU\n",
    "PROJECT_ID = \"ghc23-394604\"\n",
    "DATASET_NAME = \"Friends\"\n",
    "TABLE_NAME = \"cash_friends3\"\n",
    "\n",
    "#TO BE UPDATED BY YOU\n",
    "os.environ[\"GOOGLE_APPLICATION_CREDENTIALS\"] = \"/content/ghc23/ghc23-394604-07e797cf0921.json\"\n",
    "\n",
    "\n",
    "# Function to create a new table in BigQuery\n",
    "def create_table(project_id, dataset_name, table_name):\n",
    "  client = bigquery.Client(project=project_id)\n",
    "\n",
    "  # Define the schema for your table (change the fields accordingly)\n",
    "  schema = [\n",
    "    bigquery.SchemaField(\"user_id\", \"STRING\"),\n",
    "    bigquery.SchemaField(\"age_on_cash_app\", \"INTEGER\"),\n",
    "    bigquery.SchemaField(\"gender\", \"STRING\"),\n",
    "    bigquery.SchemaField(\"transaction_count\", \"INTEGER\"),\n",
    "    bigquery.SchemaField(\"total_amount_ever_spent\", \"INTEGER\"),\n",
    "    bigquery.SchemaField(\"current_amount\", \"INTEGER\"),\n",
    "    bigquery.SchemaField(\"bitcoin_holdings\", \"FLOAT\"),\n",
    "    bigquery.SchemaField(\"stock_holdings\", \"INTEGER\"),\n",
    "    bigquery.SchemaField(\"cash_card_usage\", \"STRING\"),\n",
    "    bigquery.SchemaField(\"direct_deposit\", \"STRING\"),\n",
    "    bigquery.SchemaField(\"cash_boost_used\", \"STRING\"),\n",
    "    bigquery.SchemaField(\"account_creation_date\", \"STRING\"),\n",
    "    bigquery.SchemaField(\"cashtag\", \"STRING\"),\n",
    "    bigquery.SchemaField(\"most_interacted_user_id\", \"STRING\"),\n",
    "    bigquery.SchemaField(\"occupation\", \"STRING\"),\n",
    "    bigquery.SchemaField(\"location\", \"STRING\"),\n",
    "    bigquery.SchemaField(\"most_used_cash_app_feature\", \"STRING\")\n",
    "  ]\n",
    "\n",
    "  table_ref = client.dataset(dataset_name).table(table_name)\n",
    "  table = bigquery.Table(table_ref, schema=schema)\n",
    "\n",
    "  # Create the table\n",
    "  table = client.create_table(table)\n",
    "  print(f\"Table {table.project}.{table.dataset_id}.{table.table_id} created.\")\n",
    "\n",
    "\n",
    "# Function to upload Parquet data to BigQuery table\n",
    "def upload_parquet_to_bigquery(parquet_file_path, project_id, dataset_name, table_name):\n",
    "  client = bigquery.Client(project=project_id)\n",
    "  dataset_ref = client.dataset(dataset_name)\n",
    "  table_ref = dataset_ref.table(table_name)\n",
    "\n",
    "  with open(parquet_file_path, \"r\") as f:\n",
    "    # Assuming the first row contains the column headers\n",
    "    reader = parquet.DictReader(f)\n",
    "    rows_to_insert = [row for row in reader]\n",
    "\n",
    "  errors = client.insert_rows_json(table_ref, rows_to_insert)\n",
    "  if errors:\n",
    "    raise ValueError(f\"Error uploading data to BigQuery: {errors}\")"
   ],
   "metadata": {
    "collapsed": false
   }
  },
  {
   "cell_type": "code",
   "execution_count": null,
   "outputs": [],
   "source": [
    "# Path to your parquet file\n",
    "parquet_file_path = \"CashFriends.parquet\"\n",
    "\n",
    "# Create the table (only needed if the table doesn't already exist)\n",
    "create_table(PROJECT_ID, DATASET_NAME, TABLE_NAME)\n",
    "\n",
    "# Upload the CSV data to the table\n",
    "upload_csv_to_bigquery(csv_file_path, PROJECT_ID, DATASET_NAME, TABLE_NAME)"
   ],
   "metadata": {
    "collapsed": false
   }
  },
  {
   "cell_type": "markdown",
   "metadata": {
    "id": "bAgG2CiQcYyU"
   },
   "source": [
    "# New Section\n"
   ]
  }
 ],
 "metadata": {
  "colab": {
   "provenance": []
  },
  "kernelspec": {
   "display_name": "Python 3 (ipykernel)",
   "language": "python",
   "name": "python3"
  },
  "language_info": {
   "codemirror_mode": {
    "name": "ipython",
    "version": 3
   },
   "file_extension": ".py",
   "mimetype": "text/x-python",
   "name": "python",
   "nbconvert_exporter": "python",
   "pygments_lexer": "ipython3",
   "version": "3.8.0"
  }
 },
 "nbformat": 4,
 "nbformat_minor": 4
}
