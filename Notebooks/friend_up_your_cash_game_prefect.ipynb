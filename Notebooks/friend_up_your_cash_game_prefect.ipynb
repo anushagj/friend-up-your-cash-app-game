{
  "cells": [
    {
      "cell_type": "markdown",
      "source": [
        "# Setup git cloning\n"
      ],
      "metadata": {
        "collapsed": false,
        "id": "HAntX655J7zX"
      }
    },
    {
      "cell_type": "code",
      "execution_count": null,
      "metadata": {
        "id": "jK3n8aNHeUaD"
      },
      "outputs": [],
      "source": [
        "! git clone https://github.com/anushagj/friend-up-your-cash-app-game.git\n",
        "! pip install prefect==1.0 -U"
      ]
    },
    {
      "cell_type": "code",
      "execution_count": 2,
      "metadata": {
        "id": "dYn3zs6ihUOG",
        "outputId": "243efca4-84a5-4f26-a19f-60fd4d35cc2c",
        "colab": {
          "base_uri": "https://localhost:8080/"
        }
      },
      "outputs": [
        {
          "output_type": "stream",
          "name": "stdout",
          "text": [
            "\u001b[32mLogged in to Prefect Cloud tenant \"anusha.gururaj@gmail.com's Account\" (anusha-gururaj-gmail-com-s-account)\u001b[0m\n"
          ]
        }
      ],
      "source": [
        "! prefect auth login --key pcu_OE9kVme38er0WvwRvU0sb94mSoniCA0ySEpO"
      ]
    },
    {
      "cell_type": "code",
      "execution_count": 3,
      "metadata": {
        "id": "2dPl8f7FhUOG",
        "outputId": "849bd576-a553-4b93-e94d-03ca7a6303b2",
        "colab": {
          "base_uri": "https://localhost:8080/"
        }
      },
      "outputs": [
        {
          "output_type": "stream",
          "name": "stdout",
          "text": [
            "\u001b[32mcash_find_friends created\u001b[0m\n"
          ]
        }
      ],
      "source": [
        "! prefect create project cash_find_friends"
      ]
    },
    {
      "cell_type": "code",
      "execution_count": null,
      "metadata": {
        "id": "CcKaItqlcEEt"
      },
      "outputs": [],
      "source": [
        "flow.register(project_name=\"cash_find_friends\")"
      ]
    },
    {
      "cell_type": "markdown",
      "source": [
        "# **Create table in BigQuery**"
      ],
      "metadata": {
        "id": "77KwPxXWYnlt"
      }
    },
    {
      "cell_type": "code",
      "execution_count": 16,
      "metadata": {
        "id": "xL4Z7hbHhUOG",
        "outputId": "40604f34-3769-4a34-e2f8-aa01b47edf83",
        "colab": {
          "base_uri": "https://localhost:8080/"
        }
      },
      "outputs": [
        {
          "output_type": "stream",
          "name": "stdout",
          "text": [
            "Table anusha-ghc-project.Friends.cash_friends created.\n"
          ]
        }
      ],
      "source": [
        "import os\n",
        "from google.cloud import bigquery\n",
        "from prefect import task, Flow, Parameter\n",
        "import pandas as pd\n",
        "\n",
        "#TO BE UPDATED BY YOU\n",
        "PROJECT_ID = \"anusha-ghc-project\"\n",
        "DATASET_NAME = \"Friends\"\n",
        "TABLE_NAME = \"cash_friends\"\n",
        "\n",
        "#TO BE UPDATED BY YOU\n",
        "os.environ[\"GOOGLE_APPLICATION_CREDENTIALS\"] = \"/content/anusha-ghc-project-6a1781b38a76.json\"\n",
        "\n",
        "# Function to create a new table in BigQuery\n",
        "@task\n",
        "def create_table(project_id, dataset_name, table_name):\n",
        "  client = bigquery.Client(project=project_id)\n",
        "\n",
        "  # Define the schema for your table (change the fields accordingly)\n",
        "  schema = [\n",
        "    bigquery.SchemaField(\"user_id\", \"STRING\"),\n",
        "    bigquery.SchemaField(\"account_creation_date\", \"STRING\"),\n",
        "    bigquery.SchemaField(\"gender\", \"STRING\"),\n",
        "    bigquery.SchemaField(\"count_num_transactions_last_yr\", \"INTEGER\"),\n",
        "    bigquery.SchemaField(\"sum_amount_spent_all_time_usd\", \"FLOAT\"),\n",
        "    bigquery.SchemaField(\"current_cash_account_balance_usd\", \"FLOAT\"),\n",
        "    bigquery.SchemaField(\"current_bitcoin_account_balance_btc\", \"FLOAT\"),\n",
        "    bigquery.SchemaField(\"current_stock_account_balance_usd\", \"FLOAT\"),\n",
        "    bigquery.SchemaField(\"cash_card_enabled\", \"STRING\"),\n",
        "    bigquery.SchemaField(\"direct_deposit_enabled\", \"STRING\"),\n",
        "    bigquery.SchemaField(\"cash_boost_used\", \"STRING\"),\n",
        "    bigquery.SchemaField(\"most_interacted_user_index\", \"INTEGER\"),\n",
        "    bigquery.SchemaField(\"user_occupation\", \"STRING\"),\n",
        "    bigquery.SchemaField(\"location\", \"STRING\"),\n",
        "    bigquery.SchemaField(\"most_used_cash_app_feature\", \"STRING\"),\n",
        "    bigquery.SchemaField(\"account_age_yr\",\"INTEGER\"),\n",
        "    bigquery.SchemaField(\"most_interacted_user_id\",\"STRING\")\n",
        "  ]\n",
        "\n",
        "  table_ref = client.dataset(dataset_name).table(table_name)\n",
        "  table = bigquery.Table(table_ref, schema=schema)\n",
        "\n",
        "  # Create the table\n",
        "  table = client.create_table(table)\n",
        "  print(f\"Table {table.project}.{table.dataset_id}.{table.table_id} created.\")\n",
        "\n",
        "\n",
        "# Create the table (only needed if the table doesn't already exist)\n",
        "create_table(PROJECT_ID, DATASET_NAME, TABLE_NAME)"
      ]
    },
    {
      "cell_type": "markdown",
      "metadata": {
        "id": "Ypv8jOVxsyLs"
      },
      "source": [
        "# **Upload data from the parquet file into BigQuery**"
      ]
    },
    {
      "cell_type": "code",
      "execution_count": 14,
      "metadata": {
        "id": "kdgFiJVwrsqk",
        "outputId": "3c4f25b1-a4da-466c-e661-5acc2a6ab52c",
        "colab": {
          "base_uri": "https://localhost:8080/",
          "height": 268
        }
      },
      "outputs": [
        {
          "output_type": "stream",
          "name": "stdout",
          "text": [
            "[2023-09-18 03:20:30+0000] INFO - prefect.FlowRunner | Beginning Flow run for 'ghc-cash-friends'\n"
          ]
        },
        {
          "output_type": "stream",
          "name": "stderr",
          "text": [
            "INFO:prefect.FlowRunner:Beginning Flow run for 'ghc-cash-friends'\n"
          ]
        },
        {
          "output_type": "stream",
          "name": "stdout",
          "text": [
            "[2023-09-18 03:20:30+0000] INFO - prefect.TaskRunner | Task 'upload_parquet_to_bigquery': Starting task run...\n"
          ]
        },
        {
          "output_type": "stream",
          "name": "stderr",
          "text": [
            "INFO:prefect.TaskRunner:Task 'upload_parquet_to_bigquery': Starting task run...\n"
          ]
        },
        {
          "output_type": "stream",
          "name": "stdout",
          "text": [
            "Loaded 5000 rows into Friends:cash_friends\n",
            "[2023-09-18 03:20:35+0000] INFO - prefect.TaskRunner | Task 'upload_parquet_to_bigquery': Finished task run for task with final state: 'Success'\n"
          ]
        },
        {
          "output_type": "stream",
          "name": "stderr",
          "text": [
            "INFO:prefect.TaskRunner:Task 'upload_parquet_to_bigquery': Finished task run for task with final state: 'Success'\n"
          ]
        },
        {
          "output_type": "stream",
          "name": "stdout",
          "text": [
            "[2023-09-18 03:20:35+0000] INFO - prefect.FlowRunner | Flow run SUCCESS: all reference tasks succeeded\n"
          ]
        },
        {
          "output_type": "stream",
          "name": "stderr",
          "text": [
            "INFO:prefect.FlowRunner:Flow run SUCCESS: all reference tasks succeeded\n"
          ]
        },
        {
          "output_type": "stream",
          "name": "stdout",
          "text": [
            "Flow URL: https://cloud.prefect.io/anusha-gururaj-gmail-com-s-account/flow/18f766aa-7206-4c39-a60f-bf7a220387b5\n",
            " └── ID: f6ef5b09-0df4-4689-9a29-2873ad4f04c5\n",
            " └── Project: cash_find_friends\n",
            " └── Labels: ['81b5fad8dd7b']\n"
          ]
        },
        {
          "output_type": "execute_result",
          "data": {
            "text/plain": [
              "'f6ef5b09-0df4-4689-9a29-2873ad4f04c5'"
            ],
            "application/vnd.google.colaboratory.intrinsic+json": {
              "type": "string"
            }
          },
          "metadata": {},
          "execution_count": 14
        }
      ],
      "source": [
        "from prefect import task, Flow\n",
        "\n",
        "# Function to upload Parquet data to BigQuery table\n",
        "@task\n",
        "def upload_parquet_to_bigquery(parquet_file_path, project_id, dataset_name, table_name):\n",
        "  df = pd.read_parquet(parquet_file_path)\n",
        "\n",
        "  df['account_creation_date'] = df['account_creation_date'].dt.strftime('%Y-%m-%d %H:%M:%S')\n",
        "\n",
        "\n",
        "  # Initialize a BigQuery client\n",
        "  client = bigquery.Client()\n",
        "\n",
        "\n",
        "  # Define the job configuration\n",
        "  job_config = bigquery.LoadJobConfig()\n",
        "  job_config.source_format = bigquery.SourceFormat.PARQUET\n",
        "  job_config.autodetect = True  # Automatically detect schema\n",
        "\n",
        "  # Upload the DataFrame to BigQuery\n",
        "  table_ref = client.dataset(dataset_name).table(table_name)\n",
        "  job = client.load_table_from_dataframe(df, table_ref, job_config=job_config)\n",
        "\n",
        "  # Wait for the job to complete\n",
        "  job.result()\n",
        "\n",
        "  print(f\"Loaded {job.output_rows} rows into {dataset_name}:{table_name}\")\n",
        "\n",
        "# Upload the CSV data to the table\n",
        "# upload_parquet_to_bigquery(parquet_file_path, PROJECT_ID, DATASET_NAME, TABLE_NAME)\n",
        "\n",
        "# flow = Flow(\"ghc-cash-friends\", tasks=[upload_parquet_to_bigquery(parquet_file_path, PROJECT_ID, DATASET_NAME, TABLE_NAME)])\n",
        "# flow.run()\n",
        "\n",
        "with Flow(\"ghc-cash-friends\") as flow:\n",
        "    upload_parquet_to_bigquery(parquet_file_path, PROJECT_ID, DATASET_NAME, TABLE_NAME)\n",
        "\n",
        "flow.run()\n",
        "flow.register(project_name=\"cash_find_friends\")"
      ]
    },
    {
      "cell_type": "markdown",
      "metadata": {
        "id": "Z1AZtWt_nQ3O"
      },
      "source": [
        "# **Encode Cash Friends Categorical Features**"
      ]
    },
    {
      "cell_type": "code",
      "execution_count": 24,
      "metadata": {
        "id": "_5iEXyvCnQ3O"
      },
      "outputs": [],
      "source": [
        "import pandas as pd\n",
        "from sklearn import preprocessing\n",
        "from scipy.spatial import distance\n",
        "\n",
        "categorical_cols = [\"user_occupation\", \"most_used_cash_app_feature\", \"gender\"]\n",
        "binary_cols = [\"cash_card_enabled\", \"direct_deposit_enabled\", \"cash_boost_used\", ]\n",
        "\n",
        "# Encode the categorical columns\n",
        "# use built in encoder preprocessing.LabelEncoder()\n",
        "@task(nout=2)\n",
        "def encode_categorical_columns(cols, cash_friends):\n",
        "    categorical_encoders = {}\n",
        "    for col in cols:\n",
        "        label_encoder = preprocessing.LabelEncoder()\n",
        "        encoded_col = label_encoder.fit_transform(cash_friends[col].values.tolist())\n",
        "        cash_friends[col + \"_encoded\"] = encoded_col\n",
        "        categorical_encoders[col] = label_encoder\n",
        "    return cash_friends, categorical_encoders\n",
        "\n",
        "\n",
        "# Encode the binary columns\n",
        "# use built in encoder preprocessing.LabelBinarizer()\n",
        "@task(nout=2)\n",
        "def encode_binary_columns(cols, cash_friends):\n",
        "    binary_encoders = {}\n",
        "    for col in cols:\n",
        "        label_encoder = preprocessing.LabelBinarizer()\n",
        "        encoded_col = label_encoder.fit_transform(cash_friends[col].values.tolist())\n",
        "        cash_friends[col + \"_encoded\"] = encoded_col\n",
        "        binary_encoders[col] = label_encoder\n",
        "    return cash_friends, binary_encoders"
      ]
    },
    {
      "cell_type": "markdown",
      "metadata": {
        "id": "0-qaBXAFnQ3P"
      },
      "source": [
        "# **Compute Vector Distances**"
      ]
    },
    {
      "cell_type": "code",
      "execution_count": null,
      "metadata": {
        "id": "ImCEPkwunQ3P"
      },
      "outputs": [],
      "source": [
        "@task\n",
        "def manhattan_distance(vector_1, vector_2):\n",
        "    return distance.cityblock(row1, row2)\n",
        "\n",
        "@task\n",
        "def euclidean_distance(vector_1, vector_2):\n",
        "    return distance.euclidean(row1, row2)"
      ]
    },
    {
      "cell_type": "markdown",
      "metadata": {
        "id": "GsjU4RTpnQ3P"
      },
      "source": [
        "# **Get the top 3 recommended friends for every user**"
      ]
    },
    {
      "cell_type": "code",
      "execution_count": null,
      "metadata": {
        "id": "nKswdPHwnQ3P"
      },
      "outputs": [],
      "source": [
        "# Using row 0 as our target row\n",
        "target_row = vector_df.iloc[0]"
      ]
    },
    {
      "cell_type": "code",
      "execution_count": null,
      "metadata": {
        "id": "XCVssg-MnQ3P"
      },
      "outputs": [],
      "source": [
        "# Compute vector distances\n",
        "manhatten_distances = vector_df.apply(lambda row: manhattan_distance(target_row, row), axis=1)\n",
        "euclidian_distances = vector_df.apply(lambda row: euclidean_distance(target_row, row), axis=1)\n",
        "vector_df[\"manhattan_distances\"] = manhatten_distances\n",
        "vector_df[\"euclidian_distances\"] = euclidian_distances"
      ]
    },
    {
      "cell_type": "code",
      "source": [
        "with Flow(\"ghc-cash-friends\") as flow:\n",
        "    upload_parquet_to_bigquery(parquet_file_path, PROJECT_ID, DATASET_NAME, TABLE_NAME)\n",
        "    cash_friends = pd.read_parquet(parquet_file_path)\n",
        "    cash_friends, categorical_encoders = encode_categorical_columns(categorical_cols, cash_friends)\n",
        "    cash_friends, binary_encoders = encode_binary_columns(binary_cols, cash_friends)\n",
        "    vector_df = cash_friends.drop(columns=['user_id', 'most_interacted_user_id', 'account_creation_date', 'gender', 'cash_card_enabled', 'direct_deposit_enabled', 'cash_boost_used', 'user_occupation', 'location',\n",
        "       'most_used_cash_app_feature'])\n",
        "\n",
        "flow.run()\n",
        "flow.register(project_name=\"cash_find_friends\")"
      ],
      "metadata": {
        "id": "qqsWaJNXU5WN",
        "outputId": "2885a68d-31fe-45b6-f1e2-bfbac24cb1a5",
        "colab": {
          "base_uri": "https://localhost:8080/",
          "height": 482
        }
      },
      "execution_count": 27,
      "outputs": [
        {
          "output_type": "stream",
          "name": "stdout",
          "text": [
            "[2023-09-18 03:34:13+0000] INFO - prefect.FlowRunner | Beginning Flow run for 'ghc-cash-friends'\n"
          ]
        },
        {
          "output_type": "stream",
          "name": "stderr",
          "text": [
            "INFO:prefect.FlowRunner:Beginning Flow run for 'ghc-cash-friends'\n"
          ]
        },
        {
          "output_type": "stream",
          "name": "stdout",
          "text": [
            "[2023-09-18 03:34:13+0000] INFO - prefect.TaskRunner | Task 'upload_parquet_to_bigquery': Starting task run...\n"
          ]
        },
        {
          "output_type": "stream",
          "name": "stderr",
          "text": [
            "INFO:prefect.TaskRunner:Task 'upload_parquet_to_bigquery': Starting task run...\n"
          ]
        },
        {
          "output_type": "stream",
          "name": "stdout",
          "text": [
            "Loaded 5000 rows into Friends:cash_friends\n",
            "[2023-09-18 03:34:17+0000] INFO - prefect.TaskRunner | Task 'upload_parquet_to_bigquery': Finished task run for task with final state: 'Success'\n"
          ]
        },
        {
          "output_type": "stream",
          "name": "stderr",
          "text": [
            "INFO:prefect.TaskRunner:Task 'upload_parquet_to_bigquery': Finished task run for task with final state: 'Success'\n"
          ]
        },
        {
          "output_type": "stream",
          "name": "stdout",
          "text": [
            "[2023-09-18 03:34:17+0000] INFO - prefect.TaskRunner | Task 'encode_categorical_columns': Starting task run...\n"
          ]
        },
        {
          "output_type": "stream",
          "name": "stderr",
          "text": [
            "INFO:prefect.TaskRunner:Task 'encode_categorical_columns': Starting task run...\n"
          ]
        },
        {
          "output_type": "stream",
          "name": "stdout",
          "text": [
            "[2023-09-18 03:34:17+0000] INFO - prefect.TaskRunner | Task 'encode_categorical_columns': Finished task run for task with final state: 'Success'\n"
          ]
        },
        {
          "output_type": "stream",
          "name": "stderr",
          "text": [
            "INFO:prefect.TaskRunner:Task 'encode_categorical_columns': Finished task run for task with final state: 'Success'\n"
          ]
        },
        {
          "output_type": "stream",
          "name": "stdout",
          "text": [
            "[2023-09-18 03:34:17+0000] INFO - prefect.TaskRunner | Task 'encode_categorical_columns[0]': Starting task run...\n"
          ]
        },
        {
          "output_type": "stream",
          "name": "stderr",
          "text": [
            "INFO:prefect.TaskRunner:Task 'encode_categorical_columns[0]': Starting task run...\n"
          ]
        },
        {
          "output_type": "stream",
          "name": "stdout",
          "text": [
            "[2023-09-18 03:34:17+0000] INFO - prefect.TaskRunner | Task 'encode_categorical_columns[0]': Finished task run for task with final state: 'Success'\n"
          ]
        },
        {
          "output_type": "stream",
          "name": "stderr",
          "text": [
            "INFO:prefect.TaskRunner:Task 'encode_categorical_columns[0]': Finished task run for task with final state: 'Success'\n"
          ]
        },
        {
          "output_type": "stream",
          "name": "stdout",
          "text": [
            "[2023-09-18 03:34:17+0000] INFO - prefect.TaskRunner | Task 'encode_categorical_columns[1]': Starting task run...\n"
          ]
        },
        {
          "output_type": "stream",
          "name": "stderr",
          "text": [
            "INFO:prefect.TaskRunner:Task 'encode_categorical_columns[1]': Starting task run...\n"
          ]
        },
        {
          "output_type": "stream",
          "name": "stdout",
          "text": [
            "[2023-09-18 03:34:17+0000] INFO - prefect.TaskRunner | Task 'encode_categorical_columns[1]': Finished task run for task with final state: 'Success'\n"
          ]
        },
        {
          "output_type": "stream",
          "name": "stderr",
          "text": [
            "INFO:prefect.TaskRunner:Task 'encode_categorical_columns[1]': Finished task run for task with final state: 'Success'\n"
          ]
        },
        {
          "output_type": "stream",
          "name": "stdout",
          "text": [
            "[2023-09-18 03:34:17+0000] INFO - prefect.FlowRunner | Flow run SUCCESS: all reference tasks succeeded\n"
          ]
        },
        {
          "output_type": "stream",
          "name": "stderr",
          "text": [
            "INFO:prefect.FlowRunner:Flow run SUCCESS: all reference tasks succeeded\n"
          ]
        },
        {
          "output_type": "stream",
          "name": "stdout",
          "text": [
            "Flow URL: https://cloud.prefect.io/anusha-gururaj-gmail-com-s-account/flow/18f766aa-7206-4c39-a60f-bf7a220387b5\n",
            " └── ID: 88f29090-9d2e-4821-acbd-9fc443cc3eb8\n",
            " └── Project: cash_find_friends\n",
            " └── Labels: ['81b5fad8dd7b']\n"
          ]
        },
        {
          "output_type": "execute_result",
          "data": {
            "text/plain": [
              "'88f29090-9d2e-4821-acbd-9fc443cc3eb8'"
            ],
            "application/vnd.google.colaboratory.intrinsic+json": {
              "type": "string"
            }
          },
          "metadata": {},
          "execution_count": 27
        }
      ]
    },
    {
      "cell_type": "code",
      "execution_count": 15,
      "metadata": {
        "id": "bD1IJNCehUOG",
        "outputId": "3b5abcd9-b1bc-4dde-b8ab-35c1348220d4",
        "colab": {
          "base_uri": "https://localhost:8080/"
        }
      },
      "outputs": [
        {
          "output_type": "stream",
          "name": "stdout",
          "text": [
            "[2023-09-18 03:20:44,179] INFO - agent | Registering agent...\n",
            "[2023-09-18 03:20:44,287] INFO - agent | Registration successful!\n",
            "\n",
            " ____            __           _        _                    _\n",
            "|  _ \\ _ __ ___ / _| ___  ___| |_     / \\   __ _  ___ _ __ | |_\n",
            "| |_) | '__/ _ \\ |_ / _ \\/ __| __|   / _ \\ / _` |/ _ \\ '_ \\| __|\n",
            "|  __/| | |  __/  _|  __/ (__| |_   / ___ \\ (_| |  __/ | | | |_\n",
            "|_|   |_|  \\___|_|  \\___|\\___|\\__| /_/   \\_\\__, |\\___|_| |_|\\__|\n",
            "                                           |___/\n",
            "\n",
            "[2023-09-18 03:20:44,374] INFO - agent | Starting LocalAgent with labels ['81b5fad8dd7b']\n",
            "[2023-09-18 03:20:44,374] INFO - agent | Agent documentation can be found at https://docs.prefect.io/orchestration/\n",
            "[2023-09-18 03:20:44,374] INFO - agent | Waiting for flow runs...\n",
            "[2023-09-18 03:21:10,708] INFO - agent | Deploying flow run c154f881-b257-442d-8cef-54f8a9dc7bc0 to execution environment...\n",
            "[2023-09-18 03:21:10,840] INFO - agent | Completed deployment of flow run c154f881-b257-442d-8cef-54f8a9dc7bc0\n",
            "[2023-09-18 03:21:42,937] INFO - agent | Keyboard interrupt received! Shutting down...\n",
            "\n",
            "Aborted!\n"
          ]
        }
      ],
      "source": [
        "! prefect agent local start"
      ]
    },
    {
      "cell_type": "markdown",
      "metadata": {
        "id": "nOfmgqulnQ3P"
      },
      "source": [
        "### Rank the other users and get the top 3 recommended for each distance metric"
      ]
    },
    {
      "cell_type": "code",
      "execution_count": null,
      "metadata": {
        "id": "xZid2OZWnQ3P"
      },
      "outputs": [],
      "source": [
        "euclidian_distances = vector_df[\"euclidian_distances\"]\n",
        "euc_dict = euclidian_distances.to_dict()\n",
        "ordered_customers_euc =[(customer, distance) for customer, distance in euc_dict.items()]\n",
        "ordered_customers_euc.sort(key=lambda elem: elem[1])\n",
        "ordered_customers_euc[:4]\n"
      ]
    },
    {
      "cell_type": "code",
      "execution_count": null,
      "metadata": {
        "id": "5LOnOTI4nQ3P"
      },
      "outputs": [],
      "source": [
        "manhattan_distances = vector_df[\"manhattan_distances\"]\n",
        "man_dict = manhattan_distances.to_dict()\n",
        "ordered_customers_man =[(customer, distance) for customer, distance in man_dict.items()]\n",
        "ordered_customers_man.sort(key=lambda elem: elem[1])\n",
        "ordered_customers_man[:4]"
      ]
    },
    {
      "cell_type": "markdown",
      "metadata": {
        "id": "TdrEkuoYnQ3P"
      },
      "source": [
        "### Compare target user to recommended users"
      ]
    },
    {
      "cell_type": "code",
      "execution_count": null,
      "metadata": {
        "id": "zSy5WIYWnQ3P"
      },
      "outputs": [],
      "source": [
        "target_user = cash_friends.iloc[0]\n",
        "target_user"
      ]
    },
    {
      "cell_type": "code",
      "execution_count": null,
      "metadata": {
        "id": "6JsqSNonnQ3Q"
      },
      "outputs": [],
      "source": [
        "recommender_user_id = ..."
      ]
    },
    {
      "cell_type": "code",
      "execution_count": null,
      "metadata": {
        "id": "56GD9UDwnQ3Q"
      },
      "outputs": [],
      "source": [
        "recommended_user = cash_friends.iloc[recommender_user_id]\n",
        "recommended_user"
      ]
    }
  ],
  "metadata": {
    "colab": {
      "provenance": []
    },
    "kernelspec": {
      "display_name": "Python 3 (ipykernel)",
      "language": "python",
      "name": "python3"
    },
    "language_info": {
      "codemirror_mode": {
        "name": "ipython",
        "version": 3
      },
      "file_extension": ".py",
      "mimetype": "text/x-python",
      "name": "python",
      "nbconvert_exporter": "python",
      "pygments_lexer": "ipython3",
      "version": "3.8.0"
    }
  },
  "nbformat": 4,
  "nbformat_minor": 0
}