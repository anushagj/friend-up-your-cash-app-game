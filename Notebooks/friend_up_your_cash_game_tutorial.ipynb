{
  "cells": [
    {
      "cell_type": "markdown",
      "source": [
        "# Setup git cloning\n"
      ],
      "metadata": {
        "collapsed": false,
        "id": "sY2oh4gKTgLQ"
      }
    },
    {
      "cell_type": "code",
      "execution_count": 1,
      "metadata": {
        "id": "jK3n8aNHeUaD",
        "outputId": "c797bb64-5be2-4fb7-f474-522a42ca083c",
        "colab": {
          "base_uri": "https://localhost:8080/"
        }
      },
      "outputs": [
        {
          "output_type": "stream",
          "name": "stdout",
          "text": [
            "Cloning into 'friend-up-your-cash-app-game'...\n",
            "remote: Enumerating objects: 76, done.\u001b[K\n",
            "remote: Counting objects: 100% (76/76), done.\u001b[K\n",
            "remote: Compressing objects: 100% (36/36), done.\u001b[K\n",
            "remote: Total 76 (delta 39), reused 76 (delta 39), pack-reused 0\u001b[K\n",
            "Receiving objects: 100% (76/76), 2.28 MiB | 18.51 MiB/s, done.\n",
            "Resolving deltas: 100% (39/39), done.\n",
            "Collecting prefect==1.0\n",
            "  Downloading prefect-1.0.0-py3-none-any.whl (575 kB)\n",
            "\u001b[2K     \u001b[90m━━━━━━━━━━━━━━━━━━━━━━━━━━━━━━━━━━━━━━━\u001b[0m \u001b[32m575.7/575.7 kB\u001b[0m \u001b[31m6.8 MB/s\u001b[0m eta \u001b[36m0:00:00\u001b[0m\n",
            "\u001b[?25hRequirement already satisfied: click>=7.0 in /usr/local/lib/python3.10/dist-packages (from prefect==1.0) (8.1.7)\n",
            "Requirement already satisfied: cloudpickle>=1.3.0 in /usr/local/lib/python3.10/dist-packages (from prefect==1.0) (2.2.1)\n",
            "Collecting croniter>=0.3.24 (from prefect==1.0)\n",
            "  Downloading croniter-1.4.1-py2.py3-none-any.whl (19 kB)\n",
            "Requirement already satisfied: dask>=2021.06.0 in /usr/local/lib/python3.10/dist-packages (from prefect==1.0) (2023.8.1)\n",
            "Requirement already satisfied: distributed>=2.17.0 in /usr/local/lib/python3.10/dist-packages (from prefect==1.0) (2023.8.1)\n",
            "Collecting docker>=3.4.1 (from prefect==1.0)\n",
            "  Downloading docker-6.1.3-py3-none-any.whl (148 kB)\n",
            "\u001b[2K     \u001b[90m━━━━━━━━━━━━━━━━━━━━━━━━━━━━━━━━━━━━━━\u001b[0m \u001b[32m148.1/148.1 kB\u001b[0m \u001b[31m12.7 MB/s\u001b[0m eta \u001b[36m0:00:00\u001b[0m\n",
            "\u001b[?25hRequirement already satisfied: importlib-resources>=3.0.0 in /usr/local/lib/python3.10/dist-packages (from prefect==1.0) (6.0.1)\n",
            "Collecting marshmallow>=3.0.0b19 (from prefect==1.0)\n",
            "  Downloading marshmallow-3.20.1-py3-none-any.whl (49 kB)\n",
            "\u001b[2K     \u001b[90m━━━━━━━━━━━━━━━━━━━━━━━━━━━━━━━━━━━━━━━━\u001b[0m \u001b[32m49.4/49.4 kB\u001b[0m \u001b[31m4.7 MB/s\u001b[0m eta \u001b[36m0:00:00\u001b[0m\n",
            "\u001b[?25hCollecting marshmallow-oneofschema>=2.0.0b2 (from prefect==1.0)\n",
            "  Downloading marshmallow_oneofschema-3.0.1-py2.py3-none-any.whl (5.8 kB)\n",
            "Requirement already satisfied: msgpack>=0.6.0 in /usr/local/lib/python3.10/dist-packages (from prefect==1.0) (1.0.5)\n",
            "Collecting mypy-extensions>=0.4.0 (from prefect==1.0)\n",
            "  Downloading mypy_extensions-1.0.0-py3-none-any.whl (4.7 kB)\n",
            "Requirement already satisfied: packaging>=20.0 in /usr/local/lib/python3.10/dist-packages (from prefect==1.0) (23.1)\n",
            "Collecting pendulum>=2.0.4 (from prefect==1.0)\n",
            "  Downloading pendulum-2.1.2.tar.gz (81 kB)\n",
            "\u001b[2K     \u001b[90m━━━━━━━━━━━━━━━━━━━━━━━━━━━━━━━━━━━━━━━━\u001b[0m \u001b[32m81.2/81.2 kB\u001b[0m \u001b[31m8.0 MB/s\u001b[0m eta \u001b[36m0:00:00\u001b[0m\n",
            "\u001b[?25h  Installing build dependencies ... \u001b[?25l\u001b[?25hdone\n",
            "  Getting requirements to build wheel ... \u001b[?25l\u001b[?25hdone\n",
            "  Preparing metadata (pyproject.toml) ... \u001b[?25l\u001b[?25hdone\n",
            "Requirement already satisfied: python-dateutil>=2.7.0 in /usr/local/lib/python3.10/dist-packages (from prefect==1.0) (2.8.2)\n",
            "Requirement already satisfied: pyyaml>=3.13 in /usr/local/lib/python3.10/dist-packages (from prefect==1.0) (6.0.1)\n",
            "Requirement already satisfied: python-box>=5.1.0 in /usr/local/lib/python3.10/dist-packages (from prefect==1.0) (7.1.1)\n",
            "Requirement already satisfied: python-slugify>=1.2.6 in /usr/local/lib/python3.10/dist-packages (from prefect==1.0) (8.0.1)\n",
            "Requirement already satisfied: pytz>=2018.7 in /usr/local/lib/python3.10/dist-packages (from prefect==1.0) (2023.3.post1)\n",
            "Requirement already satisfied: requests>=2.25 in /usr/local/lib/python3.10/dist-packages (from prefect==1.0) (2.31.0)\n",
            "Requirement already satisfied: tabulate>=0.8.0 in /usr/local/lib/python3.10/dist-packages (from prefect==1.0) (0.9.0)\n",
            "Requirement already satisfied: toml>=0.9.4 in /usr/local/lib/python3.10/dist-packages (from prefect==1.0) (0.10.2)\n",
            "Requirement already satisfied: urllib3>=1.26.0 in /usr/local/lib/python3.10/dist-packages (from prefect==1.0) (2.0.4)\n",
            "Requirement already satisfied: fsspec>=2021.09.0 in /usr/local/lib/python3.10/dist-packages (from dask>=2021.06.0->prefect==1.0) (2023.6.0)\n",
            "Requirement already satisfied: partd>=1.2.0 in /usr/local/lib/python3.10/dist-packages (from dask>=2021.06.0->prefect==1.0) (1.4.0)\n",
            "Requirement already satisfied: toolz>=0.10.0 in /usr/local/lib/python3.10/dist-packages (from dask>=2021.06.0->prefect==1.0) (0.12.0)\n",
            "Requirement already satisfied: importlib-metadata>=4.13.0 in /usr/local/lib/python3.10/dist-packages (from dask>=2021.06.0->prefect==1.0) (6.8.0)\n",
            "Requirement already satisfied: jinja2>=2.10.3 in /usr/local/lib/python3.10/dist-packages (from distributed>=2.17.0->prefect==1.0) (3.1.2)\n",
            "Requirement already satisfied: locket>=1.0.0 in /usr/local/lib/python3.10/dist-packages (from distributed>=2.17.0->prefect==1.0) (1.0.0)\n",
            "Requirement already satisfied: psutil>=5.7.2 in /usr/local/lib/python3.10/dist-packages (from distributed>=2.17.0->prefect==1.0) (5.9.5)\n",
            "Requirement already satisfied: sortedcontainers>=2.0.5 in /usr/local/lib/python3.10/dist-packages (from distributed>=2.17.0->prefect==1.0) (2.4.0)\n",
            "Requirement already satisfied: tblib>=1.6.0 in /usr/local/lib/python3.10/dist-packages (from distributed>=2.17.0->prefect==1.0) (2.0.0)\n",
            "Requirement already satisfied: tornado>=6.0.4 in /usr/local/lib/python3.10/dist-packages (from distributed>=2.17.0->prefect==1.0) (6.3.2)\n",
            "Requirement already satisfied: zict>=2.2.0 in /usr/local/lib/python3.10/dist-packages (from distributed>=2.17.0->prefect==1.0) (3.0.0)\n",
            "Requirement already satisfied: websocket-client>=0.32.0 in /usr/local/lib/python3.10/dist-packages (from docker>=3.4.1->prefect==1.0) (1.6.2)\n",
            "Collecting pytzdata>=2020.1 (from pendulum>=2.0.4->prefect==1.0)\n",
            "  Downloading pytzdata-2020.1-py2.py3-none-any.whl (489 kB)\n",
            "\u001b[2K     \u001b[90m━━━━━━━━━━━━━━━━━━━━━━━━━━━━━━━━━━━━━━\u001b[0m \u001b[32m490.0/490.0 kB\u001b[0m \u001b[31m10.8 MB/s\u001b[0m eta \u001b[36m0:00:00\u001b[0m\n",
            "\u001b[?25hRequirement already satisfied: six>=1.5 in /usr/local/lib/python3.10/dist-packages (from python-dateutil>=2.7.0->prefect==1.0) (1.16.0)\n",
            "Requirement already satisfied: text-unidecode>=1.3 in /usr/local/lib/python3.10/dist-packages (from python-slugify>=1.2.6->prefect==1.0) (1.3)\n",
            "Requirement already satisfied: charset-normalizer<4,>=2 in /usr/local/lib/python3.10/dist-packages (from requests>=2.25->prefect==1.0) (3.2.0)\n",
            "Requirement already satisfied: idna<4,>=2.5 in /usr/local/lib/python3.10/dist-packages (from requests>=2.25->prefect==1.0) (3.4)\n",
            "Requirement already satisfied: certifi>=2017.4.17 in /usr/local/lib/python3.10/dist-packages (from requests>=2.25->prefect==1.0) (2023.7.22)\n",
            "Requirement already satisfied: zipp>=0.5 in /usr/local/lib/python3.10/dist-packages (from importlib-metadata>=4.13.0->dask>=2021.06.0->prefect==1.0) (3.16.2)\n",
            "Requirement already satisfied: MarkupSafe>=2.0 in /usr/local/lib/python3.10/dist-packages (from jinja2>=2.10.3->distributed>=2.17.0->prefect==1.0) (2.1.3)\n",
            "Building wheels for collected packages: pendulum\n",
            "  Building wheel for pendulum (pyproject.toml) ... \u001b[?25l\u001b[?25hdone\n",
            "  Created wheel for pendulum: filename=pendulum-2.1.2-cp310-cp310-manylinux_2_35_x86_64.whl size=158444 sha256=b896d451247e53970758c20ed3671a98ebf14d6001c83ed4d7cbe06459a139e9\n",
            "  Stored in directory: /root/.cache/pip/wheels/2e/41/ed/f113e4c9dc10f6c846d69f412e9cd9aa429960a3e2e485a4f9\n",
            "Successfully built pendulum\n",
            "Installing collected packages: pytzdata, mypy-extensions, marshmallow, pendulum, marshmallow-oneofschema, docker, croniter, prefect\n",
            "Successfully installed croniter-1.4.1 docker-6.1.3 marshmallow-3.20.1 marshmallow-oneofschema-3.0.1 mypy-extensions-1.0.0 pendulum-2.1.2 prefect-1.0.0 pytzdata-2020.1\n",
            "Collecting parquet\n",
            "  Downloading parquet-1.3.1-py3-none-any.whl (24 kB)\n",
            "Collecting thriftpy2 (from parquet)\n",
            "  Downloading thriftpy2-0.4.16.tar.gz (643 kB)\n",
            "\u001b[2K     \u001b[90m━━━━━━━━━━━━━━━━━━━━━━━━━━━━━━━━━━━━━━━\u001b[0m \u001b[32m643.4/643.4 kB\u001b[0m \u001b[31m4.6 MB/s\u001b[0m eta \u001b[36m0:00:00\u001b[0m\n",
            "\u001b[?25h  \u001b[1;31merror\u001b[0m: \u001b[1msubprocess-exited-with-error\u001b[0m\n",
            "  \n",
            "  \u001b[31m×\u001b[0m \u001b[32mpython setup.py egg_info\u001b[0m did not run successfully.\n",
            "  \u001b[31m│\u001b[0m exit code: \u001b[1;36m1\u001b[0m\n",
            "  \u001b[31m╰─>\u001b[0m See above for output.\n",
            "  \n",
            "  \u001b[1;35mnote\u001b[0m: This error originates from a subprocess, and is likely not a problem with pip.\n",
            "  Preparing metadata (setup.py) ... \u001b[?25l\u001b[?25herror\n",
            "\u001b[1;31merror\u001b[0m: \u001b[1mmetadata-generation-failed\u001b[0m\n",
            "\n",
            "\u001b[31m×\u001b[0m Encountered error while generating package metadata.\n",
            "\u001b[31m╰─>\u001b[0m See above for output.\n",
            "\n",
            "\u001b[1;35mnote\u001b[0m: This is an issue with the package mentioned above, not pip.\n",
            "\u001b[1;36mhint\u001b[0m: See above for details.\n"
          ]
        }
      ],
      "source": [
        "! git clone https://github.com/anushagj/friend-up-your-cash-app-game.git\n",
        "! pip install prefect==1.0 -U\n",
        "! pip install parquet"
      ]
    },
    {
      "cell_type": "markdown",
      "source": [
        "# Let's quickly explore the data"
      ],
      "metadata": {
        "collapsed": false,
        "id": "wKZW-qliTgLV"
      }
    },
    {
      "cell_type": "code",
      "execution_count": 2,
      "outputs": [
        {
          "output_type": "execute_result",
          "data": {
            "text/plain": [
              "      user_id account_creation_date  gender  count_num_transactions_last_yr  \\\n",
              "0  LyuLjUo0dH            2020-04-01    Male                              14   \n",
              "1  86lAOsc1Gh            2015-07-19    Male                              15   \n",
              "2  YcI21zkiL1            2019-04-23  Female                              16   \n",
              "3  10zlKlUH4r            2018-11-29    Male                              30   \n",
              "4  dflMuC8Yz8            2015-10-06    Male                              11   \n",
              "\n",
              "   sum_amount_spent_all_time_usd  current_cash_account_balance_usd  \\\n",
              "0                         1383.0                             714.0   \n",
              "1                          528.0                             262.0   \n",
              "2                          720.0                             753.0   \n",
              "3                         1062.0                             736.0   \n",
              "4                          199.0                             350.0   \n",
              "\n",
              "   current_bitcoin_account_balance_btc  current_stock_account_balance_usd  \\\n",
              "0                                 2.27                             1432.0   \n",
              "1                                 3.52                             2525.0   \n",
              "2                                 1.65                             2686.0   \n",
              "3                                 2.35                             2751.0   \n",
              "4                                 2.53                             1550.0   \n",
              "\n",
              "  cash_card_enabled direct_deposit_enabled cash_boost_used  \\\n",
              "0               Yes                    Yes             Yes   \n",
              "1               Yes                     No             Yes   \n",
              "2                No                    Yes              No   \n",
              "3                No                     No             Yes   \n",
              "4                No                    Yes              No   \n",
              "\n",
              "   most_interacted_user_index user_occupation     location  \\\n",
              "0                         442          Lawyer      Wyoming   \n",
              "1                         842          Lawyer  Connecticut   \n",
              "2                        4698        Designer     Illinois   \n",
              "3                         467          Doctor   Washington   \n",
              "4                        3724           Nurse     Kentucky   \n",
              "\n",
              "  most_used_cash_app_feature  account_age_yr most_interacted_user_id  \n",
              "0       Peer to Peer Payment               3              dt8BG7TNjO  \n",
              "1                  Investing               8              3WfkGmY1HF  \n",
              "2                  Cash Card               4              TSFnHGhvcb  \n",
              "3                  Cash Card               4              vH6YkrHISj  \n",
              "4                      Boost               7              zTbIUEjCJJ  "
            ],
            "text/html": [
              "\n",
              "  <div id=\"df-06a3f55f-e70d-472e-b633-a43f5eed4a2c\" class=\"colab-df-container\">\n",
              "    <div>\n",
              "<style scoped>\n",
              "    .dataframe tbody tr th:only-of-type {\n",
              "        vertical-align: middle;\n",
              "    }\n",
              "\n",
              "    .dataframe tbody tr th {\n",
              "        vertical-align: top;\n",
              "    }\n",
              "\n",
              "    .dataframe thead th {\n",
              "        text-align: right;\n",
              "    }\n",
              "</style>\n",
              "<table border=\"1\" class=\"dataframe\">\n",
              "  <thead>\n",
              "    <tr style=\"text-align: right;\">\n",
              "      <th></th>\n",
              "      <th>user_id</th>\n",
              "      <th>account_creation_date</th>\n",
              "      <th>gender</th>\n",
              "      <th>count_num_transactions_last_yr</th>\n",
              "      <th>sum_amount_spent_all_time_usd</th>\n",
              "      <th>current_cash_account_balance_usd</th>\n",
              "      <th>current_bitcoin_account_balance_btc</th>\n",
              "      <th>current_stock_account_balance_usd</th>\n",
              "      <th>cash_card_enabled</th>\n",
              "      <th>direct_deposit_enabled</th>\n",
              "      <th>cash_boost_used</th>\n",
              "      <th>most_interacted_user_index</th>\n",
              "      <th>user_occupation</th>\n",
              "      <th>location</th>\n",
              "      <th>most_used_cash_app_feature</th>\n",
              "      <th>account_age_yr</th>\n",
              "      <th>most_interacted_user_id</th>\n",
              "    </tr>\n",
              "  </thead>\n",
              "  <tbody>\n",
              "    <tr>\n",
              "      <th>0</th>\n",
              "      <td>LyuLjUo0dH</td>\n",
              "      <td>2020-04-01</td>\n",
              "      <td>Male</td>\n",
              "      <td>14</td>\n",
              "      <td>1383.0</td>\n",
              "      <td>714.0</td>\n",
              "      <td>2.27</td>\n",
              "      <td>1432.0</td>\n",
              "      <td>Yes</td>\n",
              "      <td>Yes</td>\n",
              "      <td>Yes</td>\n",
              "      <td>442</td>\n",
              "      <td>Lawyer</td>\n",
              "      <td>Wyoming</td>\n",
              "      <td>Peer to Peer Payment</td>\n",
              "      <td>3</td>\n",
              "      <td>dt8BG7TNjO</td>\n",
              "    </tr>\n",
              "    <tr>\n",
              "      <th>1</th>\n",
              "      <td>86lAOsc1Gh</td>\n",
              "      <td>2015-07-19</td>\n",
              "      <td>Male</td>\n",
              "      <td>15</td>\n",
              "      <td>528.0</td>\n",
              "      <td>262.0</td>\n",
              "      <td>3.52</td>\n",
              "      <td>2525.0</td>\n",
              "      <td>Yes</td>\n",
              "      <td>No</td>\n",
              "      <td>Yes</td>\n",
              "      <td>842</td>\n",
              "      <td>Lawyer</td>\n",
              "      <td>Connecticut</td>\n",
              "      <td>Investing</td>\n",
              "      <td>8</td>\n",
              "      <td>3WfkGmY1HF</td>\n",
              "    </tr>\n",
              "    <tr>\n",
              "      <th>2</th>\n",
              "      <td>YcI21zkiL1</td>\n",
              "      <td>2019-04-23</td>\n",
              "      <td>Female</td>\n",
              "      <td>16</td>\n",
              "      <td>720.0</td>\n",
              "      <td>753.0</td>\n",
              "      <td>1.65</td>\n",
              "      <td>2686.0</td>\n",
              "      <td>No</td>\n",
              "      <td>Yes</td>\n",
              "      <td>No</td>\n",
              "      <td>4698</td>\n",
              "      <td>Designer</td>\n",
              "      <td>Illinois</td>\n",
              "      <td>Cash Card</td>\n",
              "      <td>4</td>\n",
              "      <td>TSFnHGhvcb</td>\n",
              "    </tr>\n",
              "    <tr>\n",
              "      <th>3</th>\n",
              "      <td>10zlKlUH4r</td>\n",
              "      <td>2018-11-29</td>\n",
              "      <td>Male</td>\n",
              "      <td>30</td>\n",
              "      <td>1062.0</td>\n",
              "      <td>736.0</td>\n",
              "      <td>2.35</td>\n",
              "      <td>2751.0</td>\n",
              "      <td>No</td>\n",
              "      <td>No</td>\n",
              "      <td>Yes</td>\n",
              "      <td>467</td>\n",
              "      <td>Doctor</td>\n",
              "      <td>Washington</td>\n",
              "      <td>Cash Card</td>\n",
              "      <td>4</td>\n",
              "      <td>vH6YkrHISj</td>\n",
              "    </tr>\n",
              "    <tr>\n",
              "      <th>4</th>\n",
              "      <td>dflMuC8Yz8</td>\n",
              "      <td>2015-10-06</td>\n",
              "      <td>Male</td>\n",
              "      <td>11</td>\n",
              "      <td>199.0</td>\n",
              "      <td>350.0</td>\n",
              "      <td>2.53</td>\n",
              "      <td>1550.0</td>\n",
              "      <td>No</td>\n",
              "      <td>Yes</td>\n",
              "      <td>No</td>\n",
              "      <td>3724</td>\n",
              "      <td>Nurse</td>\n",
              "      <td>Kentucky</td>\n",
              "      <td>Boost</td>\n",
              "      <td>7</td>\n",
              "      <td>zTbIUEjCJJ</td>\n",
              "    </tr>\n",
              "  </tbody>\n",
              "</table>\n",
              "</div>\n",
              "    <div class=\"colab-df-buttons\">\n",
              "\n",
              "  <div class=\"colab-df-container\">\n",
              "    <button class=\"colab-df-convert\" onclick=\"convertToInteractive('df-06a3f55f-e70d-472e-b633-a43f5eed4a2c')\"\n",
              "            title=\"Convert this dataframe to an interactive table.\"\n",
              "            style=\"display:none;\">\n",
              "\n",
              "  <svg xmlns=\"http://www.w3.org/2000/svg\" height=\"24px\" viewBox=\"0 -960 960 960\">\n",
              "    <path d=\"M120-120v-720h720v720H120Zm60-500h600v-160H180v160Zm220 220h160v-160H400v160Zm0 220h160v-160H400v160ZM180-400h160v-160H180v160Zm440 0h160v-160H620v160ZM180-180h160v-160H180v160Zm440 0h160v-160H620v160Z\"/>\n",
              "  </svg>\n",
              "    </button>\n",
              "\n",
              "  <style>\n",
              "    .colab-df-container {\n",
              "      display:flex;\n",
              "      gap: 12px;\n",
              "    }\n",
              "\n",
              "    .colab-df-convert {\n",
              "      background-color: #E8F0FE;\n",
              "      border: none;\n",
              "      border-radius: 50%;\n",
              "      cursor: pointer;\n",
              "      display: none;\n",
              "      fill: #1967D2;\n",
              "      height: 32px;\n",
              "      padding: 0 0 0 0;\n",
              "      width: 32px;\n",
              "    }\n",
              "\n",
              "    .colab-df-convert:hover {\n",
              "      background-color: #E2EBFA;\n",
              "      box-shadow: 0px 1px 2px rgba(60, 64, 67, 0.3), 0px 1px 3px 1px rgba(60, 64, 67, 0.15);\n",
              "      fill: #174EA6;\n",
              "    }\n",
              "\n",
              "    .colab-df-buttons div {\n",
              "      margin-bottom: 4px;\n",
              "    }\n",
              "\n",
              "    [theme=dark] .colab-df-convert {\n",
              "      background-color: #3B4455;\n",
              "      fill: #D2E3FC;\n",
              "    }\n",
              "\n",
              "    [theme=dark] .colab-df-convert:hover {\n",
              "      background-color: #434B5C;\n",
              "      box-shadow: 0px 1px 3px 1px rgba(0, 0, 0, 0.15);\n",
              "      filter: drop-shadow(0px 1px 2px rgba(0, 0, 0, 0.3));\n",
              "      fill: #FFFFFF;\n",
              "    }\n",
              "  </style>\n",
              "\n",
              "    <script>\n",
              "      const buttonEl =\n",
              "        document.querySelector('#df-06a3f55f-e70d-472e-b633-a43f5eed4a2c button.colab-df-convert');\n",
              "      buttonEl.style.display =\n",
              "        google.colab.kernel.accessAllowed ? 'block' : 'none';\n",
              "\n",
              "      async function convertToInteractive(key) {\n",
              "        const element = document.querySelector('#df-06a3f55f-e70d-472e-b633-a43f5eed4a2c');\n",
              "        const dataTable =\n",
              "          await google.colab.kernel.invokeFunction('convertToInteractive',\n",
              "                                                    [key], {});\n",
              "        if (!dataTable) return;\n",
              "\n",
              "        const docLinkHtml = 'Like what you see? Visit the ' +\n",
              "          '<a target=\"_blank\" href=https://colab.research.google.com/notebooks/data_table.ipynb>data table notebook</a>'\n",
              "          + ' to learn more about interactive tables.';\n",
              "        element.innerHTML = '';\n",
              "        dataTable['output_type'] = 'display_data';\n",
              "        await google.colab.output.renderOutput(dataTable, element);\n",
              "        const docLink = document.createElement('div');\n",
              "        docLink.innerHTML = docLinkHtml;\n",
              "        element.appendChild(docLink);\n",
              "      }\n",
              "    </script>\n",
              "  </div>\n",
              "\n",
              "\n",
              "<div id=\"df-914e814a-d504-44ae-b3e4-930575d0ba55\">\n",
              "  <button class=\"colab-df-quickchart\" onclick=\"quickchart('df-914e814a-d504-44ae-b3e4-930575d0ba55')\"\n",
              "            title=\"Suggest charts.\"\n",
              "            style=\"display:none;\">\n",
              "\n",
              "<svg xmlns=\"http://www.w3.org/2000/svg\" height=\"24px\"viewBox=\"0 0 24 24\"\n",
              "     width=\"24px\">\n",
              "    <g>\n",
              "        <path d=\"M19 3H5c-1.1 0-2 .9-2 2v14c0 1.1.9 2 2 2h14c1.1 0 2-.9 2-2V5c0-1.1-.9-2-2-2zM9 17H7v-7h2v7zm4 0h-2V7h2v10zm4 0h-2v-4h2v4z\"/>\n",
              "    </g>\n",
              "</svg>\n",
              "  </button>\n",
              "\n",
              "<style>\n",
              "  .colab-df-quickchart {\n",
              "      --bg-color: #E8F0FE;\n",
              "      --fill-color: #1967D2;\n",
              "      --hover-bg-color: #E2EBFA;\n",
              "      --hover-fill-color: #174EA6;\n",
              "      --disabled-fill-color: #AAA;\n",
              "      --disabled-bg-color: #DDD;\n",
              "  }\n",
              "\n",
              "  [theme=dark] .colab-df-quickchart {\n",
              "      --bg-color: #3B4455;\n",
              "      --fill-color: #D2E3FC;\n",
              "      --hover-bg-color: #434B5C;\n",
              "      --hover-fill-color: #FFFFFF;\n",
              "      --disabled-bg-color: #3B4455;\n",
              "      --disabled-fill-color: #666;\n",
              "  }\n",
              "\n",
              "  .colab-df-quickchart {\n",
              "    background-color: var(--bg-color);\n",
              "    border: none;\n",
              "    border-radius: 50%;\n",
              "    cursor: pointer;\n",
              "    display: none;\n",
              "    fill: var(--fill-color);\n",
              "    height: 32px;\n",
              "    padding: 0;\n",
              "    width: 32px;\n",
              "  }\n",
              "\n",
              "  .colab-df-quickchart:hover {\n",
              "    background-color: var(--hover-bg-color);\n",
              "    box-shadow: 0 1px 2px rgba(60, 64, 67, 0.3), 0 1px 3px 1px rgba(60, 64, 67, 0.15);\n",
              "    fill: var(--button-hover-fill-color);\n",
              "  }\n",
              "\n",
              "  .colab-df-quickchart-complete:disabled,\n",
              "  .colab-df-quickchart-complete:disabled:hover {\n",
              "    background-color: var(--disabled-bg-color);\n",
              "    fill: var(--disabled-fill-color);\n",
              "    box-shadow: none;\n",
              "  }\n",
              "\n",
              "  .colab-df-spinner {\n",
              "    border: 2px solid var(--fill-color);\n",
              "    border-color: transparent;\n",
              "    border-bottom-color: var(--fill-color);\n",
              "    animation:\n",
              "      spin 1s steps(1) infinite;\n",
              "  }\n",
              "\n",
              "  @keyframes spin {\n",
              "    0% {\n",
              "      border-color: transparent;\n",
              "      border-bottom-color: var(--fill-color);\n",
              "      border-left-color: var(--fill-color);\n",
              "    }\n",
              "    20% {\n",
              "      border-color: transparent;\n",
              "      border-left-color: var(--fill-color);\n",
              "      border-top-color: var(--fill-color);\n",
              "    }\n",
              "    30% {\n",
              "      border-color: transparent;\n",
              "      border-left-color: var(--fill-color);\n",
              "      border-top-color: var(--fill-color);\n",
              "      border-right-color: var(--fill-color);\n",
              "    }\n",
              "    40% {\n",
              "      border-color: transparent;\n",
              "      border-right-color: var(--fill-color);\n",
              "      border-top-color: var(--fill-color);\n",
              "    }\n",
              "    60% {\n",
              "      border-color: transparent;\n",
              "      border-right-color: var(--fill-color);\n",
              "    }\n",
              "    80% {\n",
              "      border-color: transparent;\n",
              "      border-right-color: var(--fill-color);\n",
              "      border-bottom-color: var(--fill-color);\n",
              "    }\n",
              "    90% {\n",
              "      border-color: transparent;\n",
              "      border-bottom-color: var(--fill-color);\n",
              "    }\n",
              "  }\n",
              "</style>\n",
              "\n",
              "  <script>\n",
              "    async function quickchart(key) {\n",
              "      const quickchartButtonEl =\n",
              "        document.querySelector('#' + key + ' button');\n",
              "      quickchartButtonEl.disabled = true;  // To prevent multiple clicks.\n",
              "      quickchartButtonEl.classList.add('colab-df-spinner');\n",
              "      try {\n",
              "        const charts = await google.colab.kernel.invokeFunction(\n",
              "            'suggestCharts', [key], {});\n",
              "      } catch (error) {\n",
              "        console.error('Error during call to suggestCharts:', error);\n",
              "      }\n",
              "      quickchartButtonEl.classList.remove('colab-df-spinner');\n",
              "      quickchartButtonEl.classList.add('colab-df-quickchart-complete');\n",
              "    }\n",
              "    (() => {\n",
              "      let quickchartButtonEl =\n",
              "        document.querySelector('#df-914e814a-d504-44ae-b3e4-930575d0ba55 button');\n",
              "      quickchartButtonEl.style.display =\n",
              "        google.colab.kernel.accessAllowed ? 'block' : 'none';\n",
              "    })();\n",
              "  </script>\n",
              "</div>\n",
              "    </div>\n",
              "  </div>\n"
            ]
          },
          "metadata": {},
          "execution_count": 2
        }
      ],
      "source": [
        "# Load the sample data into a dataframe. A dataframe is a data structure that organizes data into a 2-dimensional table of rows and columns.\n",
        "\n",
        "import pandas as pd\n",
        "parquet_file_path = '/content/friend-up-your-cash-app-game/Dataset/cash_friends.parquet'\n",
        "cash_friends = pd.read_parquet(parquet_file_path)\n",
        "cash_friends.head()"
      ],
      "metadata": {
        "id": "ucJkFS7QTgLV",
        "outputId": "8850ddee-62d4-461e-8ae9-5e104d9c5e66",
        "colab": {
          "base_uri": "https://localhost:8080/",
          "height": 226
        }
      }
    },
    {
      "cell_type": "markdown",
      "metadata": {
        "id": "KsEp9ed2hUOE"
      },
      "source": [
        "# Part 1: GCP and Prefect Setup"
      ]
    },
    {
      "cell_type": "markdown",
      "source": [
        "# Create a Free Google Account\n",
        "Create a google account [here](https://https://accounts.google.com/signup/v2/createaccount?continue=https%3A%2F%2Fmyaccount.google.com%3Futm_source%3Daccount-marketing-page%26utm_medium%3Dcreate-account-button&flowName=GlifWebSignIn&flowEntry=SignUp) (if you don’t already have one)"
      ],
      "metadata": {
        "collapsed": false,
        "id": "dgUOhftuTgLW"
      }
    },
    {
      "cell_type": "markdown",
      "source": [
        "# Create a Free Google Cloud Platform Account\n",
        "\n",
        "In a new tab go to https://console.cloud.google.com/. Then in the top left, click on Select a **project > new project**"
      ],
      "metadata": {
        "collapsed": false,
        "id": "p5k-QpjoTgLW"
      }
    },
    {
      "cell_type": "markdown",
      "source": [
        "# Create a Free-Tier Prefect Account\n",
        "\n",
        "1.   In a new tab, go to https://cloud.prefect.io/\n",
        "2.   Click Sign in with Google option and use the new google account created in the previous step.\n",
        "3.   Click Next, then click TO THE DASHBOARD"
      ],
      "metadata": {
        "collapsed": false,
        "id": "PCIPJ-I2TgLX"
      }
    },
    {
      "cell_type": "markdown",
      "metadata": {
        "id": "suXjmDOHhUOG"
      },
      "source": [
        "# Create Prefect Task"
      ]
    },
    {
      "cell_type": "code",
      "execution_count": null,
      "metadata": {
        "id": "34kWgzrhd4ud"
      },
      "outputs": [],
      "source": [
        "import prefect\n",
        "from prefect import task, Flow\n",
        "@task\n",
        "def hello_task():\n",
        "  logger = prefect.context.get(\"logger\")\n",
        "  logger.info(\"Hello world!\")\n",
        "\n",
        "flow = Flow(\"hello-flow\", tasks=[hello_task])\n",
        "flow.run()"
      ]
    },
    {
      "cell_type": "markdown",
      "metadata": {
        "id": "OJc9JQ2OhUOG"
      },
      "source": [
        "# Setup Prefect Cloud with the Python SDK"
      ]
    },
    {
      "cell_type": "code",
      "execution_count": null,
      "metadata": {
        "id": "dYn3zs6ihUOG"
      },
      "outputs": [],
      "source": [
        "! prefect auth login --key <Your KEY>"
      ]
    },
    {
      "cell_type": "markdown",
      "source": [
        "# Connecting local prefect to our cloud prefect\n",
        "\n",
        "\n",
        "Create an API key : https://cloud.prefect.io/user/keys, **save the key**!"
      ],
      "metadata": {
        "id": "1N7CjbArp5jg"
      }
    },
    {
      "cell_type": "code",
      "execution_count": null,
      "metadata": {
        "id": "2dPl8f7FhUOG"
      },
      "outputs": [],
      "source": [
        "! prefect create project cash_find_friends"
      ]
    },
    {
      "cell_type": "code",
      "execution_count": null,
      "metadata": {
        "id": "CcKaItqlcEEt"
      },
      "outputs": [],
      "source": [
        "flow.register(project_name=\"cash_find_friends\")"
      ]
    },
    {
      "cell_type": "markdown",
      "metadata": {
        "id": "GrHX8Ti8sAiY"
      },
      "source": [
        "Next we follow the link that was generated and select quick run and we will see our flow run in the cloud !\n",
        "\n",
        "\n",
        "\n",
        "---\n",
        "\n"
      ]
    },
    {
      "cell_type": "code",
      "execution_count": null,
      "metadata": {
        "id": "bD1IJNCehUOG"
      },
      "outputs": [],
      "source": [
        "! prefect agent local start"
      ]
    },
    {
      "cell_type": "markdown",
      "metadata": {
        "id": "6f4fkMgSsIY2"
      },
      "source": [
        "\n",
        "\n",
        "---\n",
        "\n"
      ]
    },
    {
      "cell_type": "markdown",
      "metadata": {
        "id": "VXNq3PTHsefo"
      },
      "source": [
        "# **Create a Table in Big Query using Prefect**"
      ]
    },
    {
      "cell_type": "code",
      "execution_count": null,
      "metadata": {
        "id": "xL4Z7hbHhUOG"
      },
      "outputs": [],
      "source": [
        "import parquet\n",
        "import os\n",
        "from google.cloud import bigquery\n",
        "from prefect import task, Flow, Parameter\n",
        "import pandas as pd\n",
        "\n",
        "#TO BE UPDATED BY YOU\n",
        "PROJECT_ID = \"ghc23-394604\"\n",
        "DATASET_NAME = \"Friends\"\n",
        "TABLE_NAME = \"cash_friends\"\n",
        "\n",
        "#TO BE UPDATED BY YOU\n",
        "os.environ[\"GOOGLE_APPLICATION_CREDENTIALS\"] = <Your JSON FILE>\n",
        "\n",
        "# Function to create a new table in BigQuery\n",
        "def create_table(project_id, dataset_name, table_name):\n",
        "  client = bigquery.Client(project=project_id)\n",
        "\n",
        "  # Define the schema for your table (change the fields accordingly)\n",
        "  schema = [\n",
        "    bigquery.SchemaField(\"user_id\", \"STRING\"),\n",
        "    bigquery.SchemaField(\"account_creation_date\", \"STRING\"),\n",
        "    bigquery.SchemaField(\"gender\", \"STRING\"),\n",
        "    bigquery.SchemaField(\"count_num_transactions_last_yr\", \"INTEGER\"),\n",
        "    bigquery.SchemaField(\"sum_amount_spent_all_time_usd\", \"FLOAT\"),\n",
        "    bigquery.SchemaField(\"current_cash_account_balance_usd\", \"FLOAT\"),\n",
        "    bigquery.SchemaField(\"current_bitcoin_account_balance_btc\", \"FLOAT\"),\n",
        "    bigquery.SchemaField(\"current_stock_account_balance_usd\", \"FLOAT\"),\n",
        "    bigquery.SchemaField(\"cash_card_enabled\", \"STRING\"),\n",
        "    bigquery.SchemaField(\"direct_deposit_enabled\", \"STRING\"),\n",
        "    bigquery.SchemaField(\"cash_boost_used\", \"STRING\"),\n",
        "    bigquery.SchemaField(\"most_interacted_user_index\", \"INTEGER\"),\n",
        "    bigquery.SchemaField(\"user_occupation\", \"STRING\"),\n",
        "    bigquery.SchemaField(\"location\", \"STRING\"),\n",
        "    bigquery.SchemaField(\"most_used_cash_app_feature\", \"STRING\"),\n",
        "    bigquery.SchemaField(\"account_age_yr\",\"INTEGER\"),\n",
        "    bigquery.SchemaField(\"most_interacted_user_id\",\"STRING\")\n",
        "  ]\n",
        "\n",
        "  table_ref = client.dataset(dataset_name).table(table_name)\n",
        "  table = bigquery.Table(table_ref, schema=schema)\n",
        "\n",
        "  # Create the table\n",
        "  table = client.create_table(table)\n",
        "  print(f\"Table {table.project}.{table.dataset_id}.{table.table_id} created.\")\n",
        "\n",
        "\n",
        "# Create the table (only needed if the table doesn't already exist)\n",
        "create_table(PROJECT_ID, DATASET_NAME, TABLE_NAME)"
      ]
    },
    {
      "cell_type": "markdown",
      "metadata": {
        "id": "Ypv8jOVxsyLs"
      },
      "source": [
        "# **Upload data from the parquet file into BigQuery**"
      ]
    },
    {
      "cell_type": "code",
      "execution_count": null,
      "metadata": {
        "id": "kdgFiJVwrsqk"
      },
      "outputs": [],
      "source": [
        "# Function to upload Parquet data to BigQuery table\n",
        "def upload_parquet_to_bigquery(parquet_file_path, project_id, dataset_name, table_name):\n",
        "  df = pd.read_parquet(parquet_file_path)\n",
        "\n",
        "  df['account_creation_date'] = df['account_creation_date'].dt.strftime('%Y-%m-%d %H:%M:%S')\n",
        "\n",
        "\n",
        "  # Initialize a BigQuery client\n",
        "  client = bigquery.Client()\n",
        "\n",
        "\n",
        "  # Define the job configuration\n",
        "  job_config = bigquery.LoadJobConfig()\n",
        "  job_config.source_format = bigquery.SourceFormat.PARQUET\n",
        "  job_config.autodetect = True  # Automatically detect schema\n",
        "\n",
        "  # Upload the DataFrame to BigQuery\n",
        "  table_ref = client.dataset(dataset_name).table(table_name)\n",
        "  job = client.load_table_from_dataframe(df, table_ref, job_config=job_config)\n",
        "\n",
        "  # Wait for the job to complete\n",
        "  job.result()\n",
        "\n",
        "  print(f\"Loaded {job.output_rows} rows into {dataset_name}:{table_name}\")\n",
        "\n",
        "# Upload the CSV data to the table\n",
        "upload_parquet_to_bigquery(parquet_file_path, PROJECT_ID, DATASET_NAME, TABLE_NAME)"
      ]
    },
    {
      "cell_type": "markdown",
      "metadata": {
        "id": "EwwaiysunQ3O"
      },
      "source": [
        "# Part 2: Encoding & Embeddings"
      ]
    },
    {
      "cell_type": "markdown",
      "metadata": {
        "id": "LLKeocybnQ3O"
      },
      "source": [
        "## Setup"
      ]
    },
    {
      "cell_type": "code",
      "execution_count": 4,
      "metadata": {
        "id": "1Xt1st38nQ3O"
      },
      "outputs": [],
      "source": [
        "import pandas as pd\n",
        "from sklearn import preprocessing\n",
        "from scipy.spatial import distance"
      ]
    },
    {
      "cell_type": "code",
      "execution_count": 3,
      "metadata": {
        "id": "3PIowutBnQ3O"
      },
      "outputs": [],
      "source": [
        "cash_friends = df"
      ]
    },
    {
      "cell_type": "markdown",
      "metadata": {
        "id": "Z1AZtWt_nQ3O"
      },
      "source": [
        "## Encode Cash Friends Categorical Features"
      ]
    },
    {
      "cell_type": "code",
      "execution_count": 5,
      "metadata": {
        "id": "neuzdK5nnQ3O"
      },
      "outputs": [],
      "source": [
        "categorical_cols = [\"user_occupation\", \"most_used_cash_app_feature\", \"gender\"]\n",
        "binary_cols = [\"cash_card_enabled\", \"direct_deposit_enabled\", \"cash_boost_used\", ]\n"
      ]
    },
    {
      "cell_type": "code",
      "execution_count": 6,
      "metadata": {
        "id": "_5iEXyvCnQ3O"
      },
      "outputs": [],
      "source": [
        "# Encode the categorical columns\n",
        "\n",
        "# use built in encoder preprocessing.LabelEncoder()\n",
        "def encode_categorical_columns(cols, cash_friends):\n",
        "    categorical_encoders = {}\n",
        "    for col in cols:\n",
        "        # create new label encoder for this column\n",
        "        label_encoder = preprocessing.LabelEncoder()\n",
        "        # Fit label encoder to the column values and return encoded labels.\n",
        "        encoded_col = label_encoder.fit_transform(cash_friends[col].values.tolist())\n",
        "        # save encoded column values in new column\n",
        "        cash_friends[col + \"_encoded\"] = encoded_col\n",
        "        # save encoder for this column\n",
        "        categorical_encoders[col] = label_encoder\n",
        "    return cash_friends, categorical_encoders"
      ]
    },
    {
      "cell_type": "code",
      "execution_count": 7,
      "metadata": {
        "id": "M-Vt4IXhnQ3P"
      },
      "outputs": [],
      "source": [
        "# Encode the binary columns\n",
        "\n",
        "# use built in encoder preprocessing.LabelBinarizer()\n",
        "def encode_binary_columns(cols, cash_friends):\n",
        "    binary_encoders = {}\n",
        "    # TODO create new label Binarizer for this column\n",
        "    # TODO fit label encoder to the column values and return encoded labels (using fit_transform)\n",
        "    # TODO save encoded column in new col in cash_friends\n",
        "    # TODO save encoder for this column in the binary_encoders dict\n",
        "    return cash_friends, binary_encoders"
      ]
    },
    {
      "cell_type": "code",
      "execution_count": 8,
      "metadata": {
        "id": "78T_ID1rnQ3P"
      },
      "outputs": [],
      "source": [
        "# Encode the columns\n",
        "cash_friends, categorical_encoders = encode_categorical_columns(categorical_cols, cash_friends)\n",
        "cash_friends, binary_encoders = encode_binary_columns(binary_cols, cash_friends)"
      ]
    },
    {
      "cell_type": "markdown",
      "metadata": {
        "id": "gA7q3YzPnQ3P"
      },
      "source": [
        "## Drop all original columns categorical & binary columns"
      ]
    },
    {
      "cell_type": "code",
      "execution_count": 9,
      "metadata": {
        "id": "n6maqtyNnQ3P"
      },
      "outputs": [],
      "source": [
        "# Drop non numerical columns for distance calculation\n",
        "vector_df = cash_friends.drop(columns=['user_id', 'most_interacted_user_id', 'account_creation_date', 'gender', 'cash_card_enabled', 'direct_deposit_enabled', 'cash_boost_used', 'user_occupation', 'location',\n",
        "       'most_used_cash_app_feature'])"
      ]
    },
    {
      "cell_type": "markdown",
      "metadata": {
        "id": "0-qaBXAFnQ3P"
      },
      "source": [
        "## Compute Vector Distances"
      ]
    },
    {
      "cell_type": "code",
      "execution_count": 10,
      "metadata": {
        "id": "ImCEPkwunQ3P"
      },
      "outputs": [],
      "source": [
        "# use scipy distance functions\n",
        "# manhattan : distance.cityblock\n",
        "# euclidean : distance.euclidean\n",
        "\n",
        "\n",
        "def manhattan_distance(vector_1, vector_2):\n",
        "    return distance.cityblock(vector_1, vector_2)\n",
        "\n",
        "def euclidean_distance(vector_1, vector_2):\n",
        "    # TODO: COMPLETE FUNCTION TO compute distance\n",
        "    # and return distance\n",
        "    return ...\n"
      ]
    },
    {
      "cell_type": "markdown",
      "metadata": {
        "id": "GsjU4RTpnQ3P"
      },
      "source": [
        "## Lets get the top 3 recommended friends for user 0"
      ]
    },
    {
      "cell_type": "code",
      "execution_count": 11,
      "metadata": {
        "id": "nKswdPHwnQ3P"
      },
      "outputs": [],
      "source": [
        "# Using row 0 as our target row\n",
        "target_row = vector_df.iloc[0]"
      ]
    },
    {
      "cell_type": "code",
      "execution_count": 12,
      "metadata": {
        "id": "XCVssg-MnQ3P"
      },
      "outputs": [],
      "source": [
        "# Compute vector distances\n",
        "manhatten_distances = vector_df.apply(lambda row: manhattan_distance(target_row, row), axis=1)\n",
        "euclidian_distances = vector_df.apply(lambda row: euclidean_distance(target_row, row), axis=1)\n",
        "vector_df[\"manhattan_distances\"] = manhatten_distances\n",
        "vector_df[\"euclidian_distances\"] = euclidian_distances"
      ]
    },
    {
      "cell_type": "markdown",
      "metadata": {
        "id": "nOfmgqulnQ3P"
      },
      "source": [
        "### Rank the other users and get the top 3 recommended for each distance metric"
      ]
    },
    {
      "cell_type": "code",
      "execution_count": 13,
      "metadata": {
        "id": "xZid2OZWnQ3P",
        "outputId": "ea57a816-eb8d-4419-bb1c-46429901b94c",
        "colab": {
          "base_uri": "https://localhost:8080/"
        }
      },
      "outputs": [
        {
          "output_type": "execute_result",
          "data": {
            "text/plain": [
              "[(0, 0.0),\n",
              " (1772, 206.0826360953295),\n",
              " (981, 280.55483314318434),\n",
              " (2443, 300.237612733648)]"
            ]
          },
          "metadata": {},
          "execution_count": 13
        }
      ],
      "source": [
        "euclidian_distances = vector_df[\"euclidian_distances\"]\n",
        "euc_dict = euclidian_distances.to_dict()\n",
        "ordered_customers_euc =[(customer, distance) for customer, distance in euc_dict.items()]\n",
        "ordered_customers_euc.sort(key=lambda elem: elem[1])\n",
        "ordered_customers_euc[:4]\n"
      ]
    },
    {
      "cell_type": "code",
      "execution_count": 14,
      "metadata": {
        "id": "5LOnOTI4nQ3P",
        "outputId": "3ff2da26-fea9-4e6e-8045-7a532bf55a8c",
        "colab": {
          "base_uri": "https://localhost:8080/"
        }
      },
      "outputs": [
        {
          "output_type": "execute_result",
          "data": {
            "text/plain": [
              "[(0, 0.0), (1772, 304.23), (1183, 499.1), (3320, 526.31)]"
            ]
          },
          "metadata": {},
          "execution_count": 14
        }
      ],
      "source": [
        "manhattan_distances = vector_df[\"manhattan_distances\"]\n",
        "man_dict = manhattan_distances.to_dict()\n",
        "ordered_customers_man =[(customer, distance) for customer, distance in man_dict.items()]\n",
        "ordered_customers_man.sort(key=lambda elem: elem[1])\n",
        "ordered_customers_man[:4]"
      ]
    },
    {
      "cell_type": "markdown",
      "metadata": {
        "id": "TdrEkuoYnQ3P"
      },
      "source": [
        "### Compare target user to recommended users"
      ]
    },
    {
      "cell_type": "code",
      "execution_count": 17,
      "metadata": {
        "id": "zSy5WIYWnQ3P",
        "outputId": "31bec980-f66e-42ea-8146-b2e9385de89b",
        "colab": {
          "base_uri": "https://localhost:8080/"
        }
      },
      "outputs": [
        {
          "output_type": "execute_result",
          "data": {
            "text/plain": [
              "user_id                                          LyuLjUo0dH\n",
              "account_creation_date                   2020-04-01 00:00:00\n",
              "gender                                                 Male\n",
              "count_num_transactions_last_yr                           14\n",
              "sum_amount_spent_all_time_usd                        1383.0\n",
              "current_cash_account_balance_usd                      714.0\n",
              "current_bitcoin_account_balance_btc                    2.27\n",
              "current_stock_account_balance_usd                    1432.0\n",
              "cash_card_enabled                                       Yes\n",
              "direct_deposit_enabled                                  Yes\n",
              "cash_boost_used                                         Yes\n",
              "most_interacted_user_index                              442\n",
              "user_occupation                                      Lawyer\n",
              "location                                            Wyoming\n",
              "most_used_cash_app_feature             Peer to Peer Payment\n",
              "account_age_yr                                            3\n",
              "most_interacted_user_id                          dt8BG7TNjO\n",
              "user_occupation_encoded                                   6\n",
              "most_used_cash_app_feature_encoded                        4\n",
              "gender_encoded                                            1\n",
              "cash_card_enabled_encoded                                 1\n",
              "direct_deposit_enabled_encoded                            1\n",
              "cash_boost_used_encoded                                   1\n",
              "Name: 0, dtype: object"
            ]
          },
          "metadata": {},
          "execution_count": 17
        }
      ],
      "source": [
        "target_user = cash_friends.iloc[0]\n",
        "target_user"
      ]
    },
    {
      "cell_type": "code",
      "source": [
        "# Check recommender user using Euclidean distance"
      ],
      "metadata": {
        "id": "lODfpYUYU-gD"
      },
      "execution_count": 19,
      "outputs": []
    },
    {
      "cell_type": "code",
      "source": [
        "recommender_user_id = ordered_customers_euc[1][0]\n",
        "recommended_user = cash_friends.iloc[recommender_user_id]\n",
        "recommended_user"
      ],
      "metadata": {
        "id": "c4m-b_nvVHz1",
        "outputId": "1fbe5654-e8fa-41d2-fd6c-bf2a229caab1",
        "colab": {
          "base_uri": "https://localhost:8080/"
        }
      },
      "execution_count": 22,
      "outputs": [
        {
          "output_type": "execute_result",
          "data": {
            "text/plain": [
              "user_id                                         FeKVVsuTml\n",
              "account_creation_date                  2020-06-16 00:00:00\n",
              "gender                                              Female\n",
              "count_num_transactions_last_yr                          16\n",
              "sum_amount_spent_all_time_usd                       1377.0\n",
              "current_cash_account_balance_usd                     698.0\n",
              "current_bitcoin_account_balance_btc                   2.04\n",
              "current_stock_account_balance_usd                   1618.0\n",
              "cash_card_enabled                                       No\n",
              "direct_deposit_enabled                                  No\n",
              "cash_boost_used                                         No\n",
              "most_interacted_user_index                             529\n",
              "user_occupation                               Entrepreneur\n",
              "location                                        Washington\n",
              "most_used_cash_app_feature                  Direct Deposit\n",
              "account_age_yr                                           3\n",
              "most_interacted_user_id                         aL8IUZbBDi\n",
              "user_occupation_encoded                                  5\n",
              "most_used_cash_app_feature_encoded                       2\n",
              "gender_encoded                                           0\n",
              "cash_card_enabled_encoded                                0\n",
              "direct_deposit_enabled_encoded                           0\n",
              "cash_boost_used_encoded                                  0\n",
              "Name: 1772, dtype: object"
            ]
          },
          "metadata": {},
          "execution_count": 22
        }
      ]
    },
    {
      "cell_type": "code",
      "source": [
        "# Check recommender user for Manhanttan distance"
      ],
      "metadata": {
        "id": "rXc2SoMpVBuf"
      },
      "execution_count": null,
      "outputs": []
    },
    {
      "cell_type": "code",
      "execution_count": 23,
      "metadata": {
        "id": "6JsqSNonnQ3Q",
        "outputId": "ea5f049b-7386-42b2-cc0b-f49cd0a2c4c9",
        "colab": {
          "base_uri": "https://localhost:8080/"
        }
      },
      "outputs": [
        {
          "output_type": "execute_result",
          "data": {
            "text/plain": [
              "user_id                                         FeKVVsuTml\n",
              "account_creation_date                  2020-06-16 00:00:00\n",
              "gender                                              Female\n",
              "count_num_transactions_last_yr                          16\n",
              "sum_amount_spent_all_time_usd                       1377.0\n",
              "current_cash_account_balance_usd                     698.0\n",
              "current_bitcoin_account_balance_btc                   2.04\n",
              "current_stock_account_balance_usd                   1618.0\n",
              "cash_card_enabled                                       No\n",
              "direct_deposit_enabled                                  No\n",
              "cash_boost_used                                         No\n",
              "most_interacted_user_index                             529\n",
              "user_occupation                               Entrepreneur\n",
              "location                                        Washington\n",
              "most_used_cash_app_feature                  Direct Deposit\n",
              "account_age_yr                                           3\n",
              "most_interacted_user_id                         aL8IUZbBDi\n",
              "user_occupation_encoded                                  5\n",
              "most_used_cash_app_feature_encoded                       2\n",
              "gender_encoded                                           0\n",
              "cash_card_enabled_encoded                                0\n",
              "direct_deposit_enabled_encoded                           0\n",
              "cash_boost_used_encoded                                  0\n",
              "Name: 1772, dtype: object"
            ]
          },
          "metadata": {},
          "execution_count": 23
        }
      ],
      "source": [
        "recommender_user_id = ordered_customers_man[1][0]\n",
        "recommended_user = cash_friends.iloc[recommender_user_id]\n",
        "recommended_user"
      ]
    },
    {
      "cell_type": "markdown",
      "metadata": {
        "id": "8RFlBL7pnQ3Q"
      },
      "source": [
        "# (BONUS) Part 3: Model Training"
      ]
    },
    {
      "cell_type": "markdown",
      "metadata": {
        "id": "f_3WS3ntnQ3Q"
      },
      "source": []
    }
  ],
  "metadata": {
    "colab": {
      "provenance": []
    },
    "kernelspec": {
      "display_name": "Python 3 (ipykernel)",
      "language": "python",
      "name": "python3"
    },
    "language_info": {
      "codemirror_mode": {
        "name": "ipython",
        "version": 3
      },
      "file_extension": ".py",
      "mimetype": "text/x-python",
      "name": "python",
      "nbconvert_exporter": "python",
      "pygments_lexer": "ipython3",
      "version": "3.8.0"
    }
  },
  "nbformat": 4,
  "nbformat_minor": 0
}