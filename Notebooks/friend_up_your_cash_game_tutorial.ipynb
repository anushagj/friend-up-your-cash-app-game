{
 "cells": [
  {
   "cell_type": "markdown",
   "metadata": {
    "id": "KsEp9ed2hUOE"
   },
   "source": [
    "# Part 1: GCP and Prefect Setup"
   ]
  },
  {
   "cell_type": "markdown",
   "source": [
    "# Setup git cloning\n"
   ],
   "metadata": {
    "collapsed": false
   }
  },
  {
   "cell_type": "code",
   "execution_count": null,
   "metadata": {
    "id": "jK3n8aNHeUaD"
   },
   "outputs": [],
   "source": [
    "! git clone https://github.com/anushagj/friend-up-your-cash-app-game.git\n",
    "! pip install prefect==1.0 -U\n",
    "! pip install parquet"
   ]
  },
  {
   "cell_type": "markdown",
   "source": [
    "# Create a Free-Tier Prefect Account\n",
    "\n",
    "\n",
    "1.   In a new tab, go to https://cloud.prefect.io/\n",
    "2.   Click Sign in with Google option and use the new google account created in the previous step.\n",
    "3.   Click Next, then click TO THE DASHBOARD"
   ],
   "metadata": {
    "collapsed": false
   }
  },
  {
   "cell_type": "markdown",
   "metadata": {
    "id": "MPjM3jDPs-B1"
   },
   "source": [
    "# **Let's quickly explore the data**"
   ]
  },
  {
   "cell_type": "code",
   "execution_count": null,
   "metadata": {
    "id": "byMw9mExs9Wk"
   },
   "outputs": [],
   "source": [
    "import pandas as pd\n",
    "parquet_file_path = '/content/friend-up-your-cash-app-game/Dataset/cash_friends.parquet'\n",
    "df = pd.read_parquet(parquet_file_path)\n",
    "df.head()"
   ]
  },
  {
   "cell_type": "markdown",
   "source": [
    "# Create a Free Google Account\n",
    "Create a google account [here](https://https://accounts.google.com/signup/v2/createaccount?continue=https%3A%2F%2Fmyaccount.google.com%3Futm_source%3Daccount-marketing-page%26utm_medium%3Dcreate-account-button&flowName=GlifWebSignIn&flowEntry=SignUp) (if you don’t already have one)"
   ],
   "metadata": {
    "collapsed": false
   }
  },
  {
   "cell_type": "markdown",
   "source": [
    "# Create a Free Google Cloud Platform Account\n",
    "\n",
    "In a new tab go to https://console.cloud.google.com/. Then in the top left, click on Select a **project > new project**\n"
   ],
   "metadata": {
    "collapsed": false
   }
  },
  {
   "cell_type": "markdown",
   "metadata": {
    "id": "suXjmDOHhUOG"
   },
   "source": [
    "# Create Prefect Task"
   ]
  },
  {
   "cell_type": "code",
   "execution_count": null,
   "metadata": {
    "id": "34kWgzrhd4ud"
   },
   "outputs": [],
   "source": [
    "import prefect\n",
    "from prefect import task, Flow\n",
    "@task\n",
    "def hello_task():\n",
    "  logger = prefect.context.get(\"logger\")\n",
    "  logger.info(\"Hello world!\")\n",
    "\n",
    "flow = Flow(\"hello-flow\", tasks=[hello_task])\n",
    "flow.run()\n"
   ]
  },
  {
   "cell_type": "markdown",
   "metadata": {
    "id": "OJc9JQ2OhUOG"
   },
   "source": [
    "# Setup Prefect Cloud"
   ]
  },
  {
   "cell_type": "code",
   "execution_count": null,
   "metadata": {
    "id": "Of2CgUmFhUOG"
   },
   "outputs": [],
   "source": [
    "! prefect agent local start"
   ]
  },
  {
   "cell_type": "code",
   "execution_count": null,
   "metadata": {
    "id": "dYn3zs6ihUOG"
   },
   "outputs": [],
   "source": [
    "! prefect auth login --key <Your KEY>"
   ]
  },
  {
   "cell_type": "markdown",
   "source": [
    "# Connecting local prefect to our cloud prefect\n",
    "\n",
    "\n",
    "Create an API key : https://cloud.prefect.io/user/keys, **save the key**!"
   ],
   "metadata": {
    "id": "1N7CjbArp5jg"
   }
  },
  {
   "cell_type": "code",
   "execution_count": null,
   "metadata": {
    "id": "2dPl8f7FhUOG"
   },
   "outputs": [],
   "source": [
    "! prefect create project cash_find_friends"
   ]
  },
  {
   "cell_type": "code",
   "execution_count": null,
   "metadata": {
    "id": "CcKaItqlcEEt"
   },
   "outputs": [],
   "source": [
    "flow.register(project_name=\"cash_find_friends\")"
   ]
  },
  {
   "cell_type": "markdown",
   "metadata": {
    "id": "GrHX8Ti8sAiY"
   },
   "source": [
    "Next we follow the link that was generated and select quick run and we will see our flow run in the cloud !\n",
    "\n",
    "\n",
    "\n",
    "---\n",
    "\n"
   ]
  },
  {
   "cell_type": "code",
   "execution_count": null,
   "metadata": {
    "id": "bD1IJNCehUOG"
   },
   "outputs": [],
   "source": [
    "! prefect agent local start"
   ]
  },
  {
   "cell_type": "markdown",
   "metadata": {
    "id": "6f4fkMgSsIY2"
   },
   "source": [
    "\n",
    "\n",
    "---\n",
    "\n"
   ]
  },
  {
   "cell_type": "markdown",
   "metadata": {
    "id": "VXNq3PTHsefo"
   },
   "source": [
    "# **Create a Table in Big Query using Prefect**"
   ]
  },
  {
   "cell_type": "code",
   "execution_count": null,
   "metadata": {
    "id": "xL4Z7hbHhUOG"
   },
   "outputs": [],
   "source": [
    "import parquet\n",
    "import os\n",
    "from google.cloud import bigquery\n",
    "from prefect import task, Flow, Parameter\n",
    "import pandas as pd\n",
    "\n",
    "\n",
    "#TO BE UPDATED BY YOU\n",
    "PROJECT_ID = \"ghc23-394604\"\n",
    "DATASET_NAME = \"Friends\"\n",
    "TABLE_NAME = \"cash_friends\"\n",
    "\n",
    "#TO BE UPDATED BY YOU\n",
    "os.environ[\"GOOGLE_APPLICATION_CREDENTIALS\"] = <Your JSON FILE>\n",
    "\n",
    "# Function to create a new table in BigQuery\n",
    "def create_table(project_id, dataset_name, table_name):\n",
    "  client = bigquery.Client(project=project_id)\n",
    "\n",
    "  # Define the schema for your table (change the fields accordingly)\n",
    "  schema = [\n",
    "    bigquery.SchemaField(\"user_id\", \"STRING\"),\n",
    "    bigquery.SchemaField(\"account_creation_date\", \"STRING\"),\n",
    "    bigquery.SchemaField(\"gender\", \"STRING\"),\n",
    "    bigquery.SchemaField(\"count_num_transactions_last_yr\", \"INTEGER\"),\n",
    "    bigquery.SchemaField(\"sum_amount_spent_all_time_usd\", \"FLOAT\"),\n",
    "    bigquery.SchemaField(\"current_cash_account_balance_usd\", \"FLOAT\"),\n",
    "    bigquery.SchemaField(\"current_bitcoin_account_balance_btc\", \"FLOAT\"),\n",
    "    bigquery.SchemaField(\"current_stock_account_balance_usd\", \"FLOAT\"),\n",
    "    bigquery.SchemaField(\"cash_card_enabled\", \"STRING\"),\n",
    "    bigquery.SchemaField(\"direct_deposit_enabled\", \"STRING\"),\n",
    "    bigquery.SchemaField(\"cash_boost_used\", \"STRING\"),\n",
    "    bigquery.SchemaField(\"most_interacted_user_index\", \"INTEGER\"),\n",
    "    bigquery.SchemaField(\"user_occupation\", \"STRING\"),\n",
    "    bigquery.SchemaField(\"location\", \"STRING\"),\n",
    "    bigquery.SchemaField(\"most_used_cash_app_feature\", \"STRING\"),\n",
    "    bigquery.SchemaField(\"account_age_yr\",\"INTEGER\"),\n",
    "    bigquery.SchemaField(\"most_interacted_user_id\",\"STRING\")\n",
    "  ]\n",
    "\n",
    "  table_ref = client.dataset(dataset_name).table(table_name)\n",
    "  table = bigquery.Table(table_ref, schema=schema)\n",
    "\n",
    "  # Create the table\n",
    "  table = client.create_table(table)\n",
    "  print(f\"Table {table.project}.{table.dataset_id}.{table.table_id} created.\")\n",
    "\n",
    "\n",
    "# Create the table (only needed if the table doesn't already exist)\n",
    "create_table(PROJECT_ID, DATASET_NAME, TABLE_NAME)"
   ]
  },
  {
   "cell_type": "markdown",
   "metadata": {
    "id": "Ypv8jOVxsyLs"
   },
   "source": [
    "# **Upload data from the parquet file into BigQuery**"
   ]
  },
  {
   "cell_type": "code",
   "execution_count": null,
   "metadata": {
    "id": "kdgFiJVwrsqk"
   },
   "outputs": [],
   "source": [
    "# Function to upload Parquet data to BigQuery table\n",
    "def upload_parquet_to_bigquery(parquet_file_path, project_id, dataset_name, table_name):\n",
    "  df = pd.read_parquet(parquet_file_path)\n",
    "\n",
    "  df['account_creation_date'] = df['account_creation_date'].dt.strftime('%Y-%m-%d %H:%M:%S')\n",
    "\n",
    "\n",
    "  # Initialize a BigQuery client\n",
    "  client = bigquery.Client()\n",
    "\n",
    "\n",
    "  # Define the job configuration\n",
    "  job_config = bigquery.LoadJobConfig()\n",
    "  job_config.source_format = bigquery.SourceFormat.PARQUET\n",
    "  job_config.autodetect = True  # Automatically detect schema\n",
    "\n",
    "  # Upload the DataFrame to BigQuery\n",
    "  table_ref = client.dataset(dataset_name).table(table_name)\n",
    "  job = client.load_table_from_dataframe(df, table_ref, job_config=job_config)\n",
    "\n",
    "  # Wait for the job to complete\n",
    "  job.result()\n",
    "\n",
    "  print(f\"Loaded {job.output_rows} rows into {dataset_name}:{table_name}\")\n",
    "\n",
    "# Upload the CSV data to the table\n",
    "upload_parquet_to_bigquery(parquet_file_path, PROJECT_ID, DATASET_NAME, TABLE_NAME)"
   ]
  },
  {
   "cell_type": "markdown",
   "metadata": {
    "id": "EwwaiysunQ3O"
   },
   "source": [
    "# Part 2: Encoding & Embeddings"
   ]
  },
  {
   "cell_type": "markdown",
   "metadata": {
    "id": "LLKeocybnQ3O"
   },
   "source": [
    "## Setup"
   ]
  },
  {
   "cell_type": "code",
   "execution_count": null,
   "metadata": {
    "id": "1Xt1st38nQ3O"
   },
   "outputs": [],
   "source": [
    "import pandas as pd\n",
    "from sklearn import preprocessing\n",
    "from scipy.spatial import distance"
   ]
  },
  {
   "cell_type": "code",
   "execution_count": null,
   "metadata": {
    "id": "3PIowutBnQ3O"
   },
   "outputs": [],
   "source": [
    "cash_friends = df"
   ]
  },
  {
   "cell_type": "markdown",
   "metadata": {
    "id": "Z1AZtWt_nQ3O"
   },
   "source": [
    "## Encode Cash Friends Categorical Features"
   ]
  },
  {
   "cell_type": "code",
   "execution_count": null,
   "metadata": {
    "id": "neuzdK5nnQ3O"
   },
   "outputs": [],
   "source": [
    "categorical_cols = [\"user_occupation\", \"most_used_cash_app_feature\", \"gender\"]\n",
    "binary_cols = [\"cash_card_enabled\", \"direct_deposit_enabled\", \"cash_boost_used\", ]\n"
   ]
  },
  {
   "cell_type": "code",
   "execution_count": null,
   "metadata": {
    "id": "_5iEXyvCnQ3O"
   },
   "outputs": [],
   "source": [
    "# Encode the categorical columns\n",
    "\n",
    "# use built in encoder preprocessing.LabelEncoder()\n",
    "def encode_categorical_columns(cols, cash_friends):\n",
    "    categorical_encoders = {}\n",
    "    # TODO: encode each categorical column and save each encoder for\n",
    "    # each column\n",
    "    # create a new column, using the current column name + suffix '_encoded'\n",
    "    # return the mapping between the columns to categorical encoders\n",
    "    return cash_friends, categorical_encoders"
   ]
  },
  {
   "cell_type": "code",
   "execution_count": null,
   "metadata": {
    "id": "M-Vt4IXhnQ3P"
   },
   "outputs": [],
   "source": [
    "# Encode the binary columns\n",
    "\n",
    "# use built in encoder preprocessing.LabelBinarizer()\n",
    "def encode_binary_columns(cols, cash_friends):\n",
    "    binary_encoders = []\n",
    "    # TODO: encode each binary column and save each encoder for\n",
    "    # each column\n",
    "    # create a new column, using the current column name + suffix '_encoded'\n",
    "    # return the mapping between the columns to binary encoders\n",
    "    return cash_friends, binary_encoders"
   ]
  },
  {
   "cell_type": "code",
   "execution_count": null,
   "metadata": {
    "id": "78T_ID1rnQ3P"
   },
   "outputs": [],
   "source": [
    "# Encode the columns\n",
    "cash_friends, categorical_encoders = encode_categorical_columns(categorical_cols, cash_friends)\n",
    "cash_friends, binary_encoders = encode_binary_columns(binary_cols, cash_friends)"
   ]
  },
  {
   "cell_type": "markdown",
   "metadata": {
    "id": "gA7q3YzPnQ3P"
   },
   "source": [
    "## Drop all original columns categorical & binary columns"
   ]
  },
  {
   "cell_type": "code",
   "execution_count": null,
   "metadata": {
    "id": "n6maqtyNnQ3P"
   },
   "outputs": [],
   "source": [
    "# Drop non numerical columns for distance calculation\n",
    "vector_df = cash_friends.drop(columns=['user_id', 'most_interacted_user_id', 'account_creation_date', 'gender', 'cash_card_enabled', 'direct_deposit_enabled', 'cash_boost_used', 'user_occupation', 'location',\n",
    "       'most_used_cash_app_feature'])"
   ]
  },
  {
   "cell_type": "markdown",
   "metadata": {
    "id": "0-qaBXAFnQ3P"
   },
   "source": [
    "## Compute Vector Distances"
   ]
  },
  {
   "cell_type": "code",
   "execution_count": null,
   "metadata": {
    "id": "ImCEPkwunQ3P"
   },
   "outputs": [],
   "source": [
    "# use scipy distance functions\n",
    "# manhattan : distance.cityblock\n",
    "# euclidean : distance.euclidean\n",
    "\n",
    "\n",
    "def manhattan_distance(vector_1, vector_2):\n",
    "    # TODO: COMPLETE FUNCTION TO compute distance\n",
    "    # and return distance\n",
    "    return ...\n",
    "\n",
    "def euclidean_distance(vector_1, vector_2):\n",
    "    # TODO: COMPLETE FUNCTION TO compute distance\n",
    "    # and return distance\n",
    "    return ...\n"
   ]
  },
  {
   "cell_type": "markdown",
   "metadata": {
    "id": "GsjU4RTpnQ3P"
   },
   "source": [
    "## Lets get the top 3 recommended friends for user 0"
   ]
  },
  {
   "cell_type": "code",
   "execution_count": null,
   "metadata": {
    "id": "nKswdPHwnQ3P"
   },
   "outputs": [],
   "source": [
    "# Using row 0 as our target row\n",
    "target_row = vector_df.iloc[0]"
   ]
  },
  {
   "cell_type": "code",
   "execution_count": null,
   "metadata": {
    "id": "XCVssg-MnQ3P"
   },
   "outputs": [],
   "source": [
    "# Compute vector distances\n",
    "manhatten_distances = vector_df.apply(lambda row: manhattan_distance(target_row, row), axis=1)\n",
    "euclidian_distances = vector_df.apply(lambda row: euclidean_distance(target_row, row), axis=1)\n",
    "vector_df[\"manhattan_distances\"] = manhatten_distances\n",
    "vector_df[\"euclidian_distances\"] = euclidian_distances"
   ]
  },
  {
   "cell_type": "markdown",
   "metadata": {
    "id": "nOfmgqulnQ3P"
   },
   "source": [
    "### Rank the other users and get the top 3 recommended for each distance metric"
   ]
  },
  {
   "cell_type": "code",
   "execution_count": null,
   "metadata": {
    "id": "xZid2OZWnQ3P"
   },
   "outputs": [],
   "source": [
    "euclidian_distances = vector_df[\"euclidian_distances\"]\n",
    "euc_dict = euclidian_distances.to_dict()\n",
    "ordered_customers_euc =[(customer, distance) for customer, distance in euc_dict.items()]\n",
    "ordered_customers_euc.sort(key=lambda elem: elem[1])\n",
    "ordered_customers_euc[:4]\n"
   ]
  },
  {
   "cell_type": "code",
   "execution_count": null,
   "metadata": {
    "id": "5LOnOTI4nQ3P"
   },
   "outputs": [],
   "source": [
    "manhattan_distances = vector_df[\"manhattan_distances\"]\n",
    "man_dict = manhattan_distances.to_dict()\n",
    "ordered_customers_man =[(customer, distance) for customer, distance in man_dict.items()]\n",
    "ordered_customers_man.sort(key=lambda elem: elem[1])\n",
    "ordered_customers_man[:4]"
   ]
  },
  {
   "cell_type": "markdown",
   "metadata": {
    "id": "TdrEkuoYnQ3P"
   },
   "source": [
    "### Compare target user to recommended users"
   ]
  },
  {
   "cell_type": "code",
   "execution_count": null,
   "metadata": {
    "id": "zSy5WIYWnQ3P"
   },
   "outputs": [],
   "source": [
    "target_user = cash_friends.iloc[0]\n",
    "target_user"
   ]
  },
  {
   "cell_type": "code",
   "execution_count": null,
   "metadata": {
    "id": "6JsqSNonnQ3Q"
   },
   "outputs": [],
   "source": [
    "recommender_user_id = ..."
   ]
  },
  {
   "cell_type": "code",
   "execution_count": null,
   "metadata": {
    "id": "56GD9UDwnQ3Q"
   },
   "outputs": [],
   "source": [
    "recommended_user = cash_friends.iloc[recommender_user_id]\n",
    "recommended_user"
   ]
  },
  {
   "cell_type": "markdown",
   "metadata": {
    "id": "8RFlBL7pnQ3Q"
   },
   "source": [
    "# (BONUS) Part 3: Model Training"
   ]
  },
  {
   "cell_type": "markdown",
   "metadata": {
    "id": "f_3WS3ntnQ3Q"
   },
   "source": []
  }
 ],
 "metadata": {
  "colab": {
   "provenance": []
  },
  "kernelspec": {
   "display_name": "Python 3 (ipykernel)",
   "language": "python",
   "name": "python3"
  },
  "language_info": {
   "codemirror_mode": {
    "name": "ipython",
    "version": 3
   },
   "file_extension": ".py",
   "mimetype": "text/x-python",
   "name": "python",
   "nbconvert_exporter": "python",
   "pygments_lexer": "ipython3",
   "version": "3.8.0"
  }
 },
 "nbformat": 4,
 "nbformat_minor": 0
}
