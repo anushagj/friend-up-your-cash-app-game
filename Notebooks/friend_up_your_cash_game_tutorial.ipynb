{
  "cells": [
    {
      "cell_type": "markdown",
      "source": [
        "# Setup git cloning\n"
      ],
      "metadata": {
        "collapsed": false,
        "id": "sY2oh4gKTgLQ"
      }
    },
    {
      "cell_type": "code",
      "execution_count": null,
      "metadata": {
        "id": "jK3n8aNHeUaD"
      },
      "outputs": [],
      "source": [
        "! git clone https://github.com/anushagj/friend-up-your-cash-app-game.git\n",
        "! pip install prefect==1.0 -U"
      ]
    },
    {
      "cell_type": "markdown",
      "source": [
        "# Let's quickly explore the data"
      ],
      "metadata": {
        "collapsed": false,
        "id": "wKZW-qliTgLV"
      }
    },
    {
      "cell_type": "code",
      "execution_count": null,
      "outputs": [],
      "source": [
        "# Load the sample data into a dataframe. A dataframe is a data structure that organizes data into a 2-dimensional table of rows and columns.\n",
        "\n",
        "import pandas as pd\n",
        "parquet_file_path = '/content/friend-up-your-cash-app-game/Dataset/cash_friends.parquet'\n",
        "cash_friends = pd.read_parquet(parquet_file_path)\n",
        "cash_friends.head()"
      ],
      "metadata": {
        "id": "ucJkFS7QTgLV"
      }
    },
    {
      "cell_type": "markdown",
      "metadata": {
        "id": "KsEp9ed2hUOE"
      },
      "source": [
        "# Part 1: GCP and Prefect Setup"
      ]
    },
    {
      "cell_type": "markdown",
      "source": [
        "# Create a Free Google Account\n",
        "Create a google account [here](https://https://accounts.google.com/signup/v2/createaccount?continue=https%3A%2F%2Fmyaccount.google.com%3Futm_source%3Daccount-marketing-page%26utm_medium%3Dcreate-account-button&flowName=GlifWebSignIn&flowEntry=SignUp) (if you don’t already have one)"
      ],
      "metadata": {
        "collapsed": false,
        "id": "dgUOhftuTgLW"
      }
    },
    {
      "cell_type": "markdown",
      "source": [
        "# Create a Free Google Cloud Platform Account\n",
        "\n",
        "In a new tab go to https://console.cloud.google.com/. Then in the top left, click on Select a **project > new project**"
      ],
      "metadata": {
        "collapsed": false,
        "id": "p5k-QpjoTgLW"
      }
    },
    {
      "cell_type": "markdown",
      "source": [
        "# Create a Free-Tier Prefect Account\n",
        "\n",
        "1.   In a new tab, go to https://cloud.prefect.io/\n",
        "2.   Click Sign in with Google option and use the new google account created in the previous step.\n",
        "3.   Click Next, then click TO THE DASHBOARD"
      ],
      "metadata": {
        "collapsed": false,
        "id": "PCIPJ-I2TgLX"
      }
    },
    {
      "cell_type": "markdown",
      "metadata": {
        "id": "suXjmDOHhUOG"
      },
      "source": [
        "# Create Prefect Task"
      ]
    },
    {
      "cell_type": "code",
      "execution_count": null,
      "metadata": {
        "id": "34kWgzrhd4ud"
      },
      "outputs": [],
      "source": [
        "import prefect\n",
        "from prefect import task, Flow\n",
        "@task\n",
        "def hello_task():\n",
        "  logger = prefect.context.get(\"logger\")\n",
        "  logger.info(\"Hello world!\")\n",
        "\n",
        "flow = Flow(\"hello-flow\", tasks=[hello_task])\n",
        "flow.run()"
      ]
    },
    {
      "cell_type": "markdown",
      "source": [
        "# Connecting local prefect to our cloud prefect with the Python SDK\n",
        "\n",
        "\n",
        "Create an API key : https://cloud.prefect.io/user/keys, **save the key**!"
      ],
      "metadata": {
        "id": "1N7CjbArp5jg"
      }
    },
    {
      "cell_type": "code",
      "execution_count": null,
      "metadata": {
        "id": "dYn3zs6ihUOG"
      },
      "outputs": [],
      "source": [
        "! prefect auth login --key <Your KEY>"
      ]
    },
    {
      "cell_type": "code",
      "execution_count": null,
      "metadata": {
        "id": "2dPl8f7FhUOG"
      },
      "outputs": [],
      "source": [
        "! prefect create project cash_find_friends"
      ]
    },
    {
      "cell_type": "code",
      "execution_count": null,
      "metadata": {
        "id": "CcKaItqlcEEt"
      },
      "outputs": [],
      "source": [
        "flow.register(project_name=\"cash_find_friends\")"
      ]
    },
    {
      "cell_type": "markdown",
      "metadata": {
        "id": "GrHX8Ti8sAiY"
      },
      "source": [
        "Next we follow the link that was generated and select quick run and we will see our flow run in the cloud !\n",
        "\n",
        "\n",
        "\n",
        "---\n",
        "\n"
      ]
    },
    {
      "cell_type": "code",
      "execution_count": null,
      "metadata": {
        "id": "bD1IJNCehUOG"
      },
      "outputs": [],
      "source": [
        "! prefect agent local start"
      ]
    },
    {
      "cell_type": "markdown",
      "metadata": {
        "id": "6f4fkMgSsIY2"
      },
      "source": [
        "\n",
        "\n",
        "---\n",
        "\n"
      ]
    },
    {
      "cell_type": "markdown",
      "metadata": {
        "id": "VXNq3PTHsefo"
      },
      "source": [
        "# **Create a Table in Big Query using Prefect**"
      ]
    },
    {
      "cell_type": "code",
      "execution_count": null,
      "metadata": {
        "id": "xL4Z7hbHhUOG"
      },
      "outputs": [],
      "source": [
        "import os\n",
        "from google.cloud import bigquery\n",
        "from prefect import task, Flow, Parameter\n",
        "import pandas as pd\n",
        "\n",
        "#TO BE UPDATED BY YOU\n",
        "PROJECT_ID = \"ghc23-394604\"\n",
        "DATASET_NAME = \"Friends\"\n",
        "TABLE_NAME = \"cash_friends\"\n",
        "\n",
        "#TO BE UPDATED BY YOU\n",
        "os.environ[\"GOOGLE_APPLICATION_CREDENTIALS\"] = \"/content/ghc23-394604-35ee944353aa.json\"\n",
        "\n",
        "# Function to create a new table in BigQuery\n",
        "@task\n",
        "def create_table(project_id, dataset_name, table_name):\n",
        "  client = bigquery.Client(project=project_id)\n",
        "\n",
        "  # Define the schema for your table (change the fields accordingly)\n",
        "  schema = [\n",
        "    bigquery.SchemaField(\"user_id\", \"STRING\"),\n",
        "    bigquery.SchemaField(\"account_creation_date\", \"STRING\"),\n",
        "    bigquery.SchemaField(\"gender\", \"STRING\"),\n",
        "    bigquery.SchemaField(\"count_num_transactions_last_yr\", \"INTEGER\"),\n",
        "    bigquery.SchemaField(\"sum_amount_spent_all_time_usd\", \"FLOAT\"),\n",
        "    bigquery.SchemaField(\"current_cash_account_balance_usd\", \"FLOAT\"),\n",
        "    bigquery.SchemaField(\"current_bitcoin_account_balance_btc\", \"FLOAT\"),\n",
        "    bigquery.SchemaField(\"current_stock_account_balance_usd\", \"FLOAT\"),\n",
        "    bigquery.SchemaField(\"cash_card_enabled\", \"STRING\"),\n",
        "    bigquery.SchemaField(\"direct_deposit_enabled\", \"STRING\"),\n",
        "    bigquery.SchemaField(\"cash_boost_used\", \"STRING\"),\n",
        "    bigquery.SchemaField(\"most_interacted_user_index\", \"INTEGER\"),\n",
        "    bigquery.SchemaField(\"user_occupation\", \"STRING\"),\n",
        "    bigquery.SchemaField(\"location\", \"STRING\"),\n",
        "    bigquery.SchemaField(\"most_used_cash_app_feature\", \"STRING\"),\n",
        "    bigquery.SchemaField(\"account_age_yr\",\"INTEGER\"),\n",
        "    bigquery.SchemaField(\"most_interacted_user_id\",\"STRING\")\n",
        "  ]\n",
        "\n",
        "  table_ref = client.dataset(dataset_name).table(table_name)\n",
        "  table = bigquery.Table(table_ref, schema=schema)\n",
        "\n",
        "  # Create the table\n",
        "  table = client.create_table(table)\n",
        "  print(f\"Table {table.project}.{table.dataset_id}.{table.table_id} created.\")"
      ]
    },
    {
      "cell_type": "markdown",
      "metadata": {
        "id": "Ypv8jOVxsyLs"
      },
      "source": [
        "# **Upload data from the parquet file into BigQuery**"
      ]
    },
    {
      "cell_type": "code",
      "execution_count": null,
      "metadata": {
        "id": "kdgFiJVwrsqk"
      },
      "outputs": [],
      "source": [
        "# Function to upload Parquet data to BigQuery table\n",
        "@task\n",
        "def upload_parquet_to_bigquery(parquet_file_path, project_id, dataset_name, table_name):\n",
        "  df = pd.read_parquet(parquet_file_path)\n",
        "\n",
        "  df['account_creation_date'] = df['account_creation_date'].dt.strftime('%Y-%m-%d %H:%M:%S')\n",
        "\n",
        "\n",
        "  # Initialize a BigQuery client\n",
        "  client = bigquery.Client()\n",
        "\n",
        "\n",
        "  # Define the job configuration\n",
        "  job_config = bigquery.LoadJobConfig()\n",
        "  job_config.source_format = bigquery.SourceFormat.PARQUET\n",
        "  job_config.autodetect = True  # Automatically detect schema\n",
        "\n",
        "  # Upload the DataFrame to BigQuery\n",
        "  table_ref = client.dataset(dataset_name).table(table_name)\n",
        "  job = client.load_table_from_dataframe(df, table_ref, job_config=job_config)\n",
        "\n",
        "  # Wait for the job to complete\n",
        "  job.result()\n",
        "\n",
        "  print(f\"Loaded {job.output_rows} rows into {dataset_name}:{table_name}\")"
      ]
    },
    {
      "cell_type": "code",
      "source": [
        "with Flow(\"Parquet to BigQuery Flow\") as flow:\n",
        "    # Create the BigQuery table\n",
        "    create_table_task = create_table(PROJECT_ID, DATASET_NAME, TABLE_NAME)\n",
        "\n",
        "    # Upload Parquet data to the table\n",
        "    upload_parquet_task = upload_parquet_to_bigquery(parquet_file_path, PROJECT_ID, DATASET_NAME, TABLE_NAME)\n",
        "\n",
        "flow.run()"
      ],
      "metadata": {
        "id": "4PzOsJACxWgA"
      },
      "execution_count": null,
      "outputs": []
    },
    {
      "cell_type": "markdown",
      "metadata": {
        "id": "EwwaiysunQ3O"
      },
      "source": [
        "# Part 2: Encoding & Embeddings"
      ]
    },
    {
      "cell_type": "markdown",
      "metadata": {
        "id": "LLKeocybnQ3O"
      },
      "source": [
        "## Setup"
      ]
    },
    {
      "cell_type": "code",
      "execution_count": null,
      "metadata": {
        "id": "1Xt1st38nQ3O"
      },
      "outputs": [],
      "source": [
        "import pandas as pd\n",
        "from sklearn import preprocessing\n",
        "from scipy.spatial import distance"
      ]
    },
    {
      "cell_type": "markdown",
      "metadata": {
        "id": "Z1AZtWt_nQ3O"
      },
      "source": [
        "## Encode Cash Friends Categorical Features"
      ]
    },
    {
      "cell_type": "code",
      "execution_count": null,
      "metadata": {
        "id": "neuzdK5nnQ3O"
      },
      "outputs": [],
      "source": [
        "categorical_cols = [\"user_occupation\", \"most_used_cash_app_feature\", \"gender\"]\n",
        "binary_cols = [\"cash_card_enabled\", \"direct_deposit_enabled\", \"cash_boost_used\", ]"
      ]
    },
    {
      "cell_type": "code",
      "execution_count": null,
      "metadata": {
        "id": "_5iEXyvCnQ3O"
      },
      "outputs": [],
      "source": [
        "# Encode the categorical columns\n",
        "\n",
        "# use built in encoder preprocessing.LabelEncoder()\n",
        "def encode_categorical_columns(cols, cash_friends):\n",
        "    categorical_encoders = {}\n",
        "    for col in cols:\n",
        "        # create new label encoder for this column\n",
        "        label_encoder = preprocessing.LabelEncoder()\n",
        "        # Fit label encoder to the column values and return encoded labels.\n",
        "        encoded_col = label_encoder.fit_transform(cash_friends[col].values.tolist())\n",
        "        # save encoded column values in new column\n",
        "        cash_friends[col + \"_encoded\"] = encoded_col\n",
        "        # save encoder for this column\n",
        "        categorical_encoders[col] = label_encoder\n",
        "    return cash_friends, categorical_encoders"
      ]
    },
    {
      "cell_type": "code",
      "execution_count": null,
      "metadata": {
        "id": "M-Vt4IXhnQ3P"
      },
      "outputs": [],
      "source": [
        "# Encode the binary columns\n",
        "\n",
        "# use built in encoder preprocessing.LabelBinarizer()\n",
        "def encode_binary_columns(cols, cash_friends):\n",
        "    binary_encoders = {}\n",
        "    # TODO create new label Binarizer for this column\n",
        "    # TODO fit label encoder to the column values and return encoded labels (using fit_transform)\n",
        "    # TODO save encoded column in new col in cash_friends\n",
        "    # TODO save encoder for this column in the binary_encoders dict\n",
        "    return cash_friends, binary_encoders"
      ]
    },
    {
      "cell_type": "code",
      "execution_count": null,
      "metadata": {
        "id": "78T_ID1rnQ3P"
      },
      "outputs": [],
      "source": [
        "# Encode the columns\n",
        "cash_friends, categorical_encoders = encode_categorical_columns(categorical_cols, cash_friends)\n",
        "cash_friends, binary_encoders = encode_binary_columns(binary_cols, cash_friends)"
      ]
    },
    {
      "cell_type": "markdown",
      "metadata": {
        "id": "gA7q3YzPnQ3P"
      },
      "source": [
        "## Drop all original columns categorical & binary columns"
      ]
    },
    {
      "cell_type": "code",
      "execution_count": null,
      "metadata": {
        "id": "n6maqtyNnQ3P"
      },
      "outputs": [],
      "source": [
        "# Drop non numerical columns for distance calculation\n",
        "vector_df = cash_friends.drop(columns=['user_id', 'most_interacted_user_id', 'account_creation_date', 'gender', 'cash_card_enabled', 'direct_deposit_enabled', 'cash_boost_used', 'user_occupation', 'location',\n",
        "       'most_used_cash_app_feature'])"
      ]
    },
    {
      "cell_type": "markdown",
      "metadata": {
        "id": "0-qaBXAFnQ3P"
      },
      "source": [
        "## Compute Vector Distances"
      ]
    },
    {
      "cell_type": "code",
      "execution_count": null,
      "metadata": {
        "id": "ImCEPkwunQ3P"
      },
      "outputs": [],
      "source": [
        "# use scipy distance functions\n",
        "# manhattan : distance.cityblock\n",
        "# euclidean : distance.euclidean\n",
        "\n",
        "def manhattan_distance(vector_1, vector_2):\n",
        "    return distance.cityblock(vector_1, vector_2)\n",
        "\n",
        "def euclidean_distance(vector_1, vector_2):\n",
        "    # TODO: COMPLETE FUNCTION TO compute distance\n",
        "    # and return distance\n",
        "    return ..."
      ]
    },
    {
      "cell_type": "markdown",
      "metadata": {
        "id": "GsjU4RTpnQ3P"
      },
      "source": [
        "## Lets get the top 3 recommended friends for user 0"
      ]
    },
    {
      "cell_type": "code",
      "execution_count": null,
      "metadata": {
        "id": "nKswdPHwnQ3P"
      },
      "outputs": [],
      "source": [
        "# Using row 0 as our target row\n",
        "target_row = vector_df.iloc[0]"
      ]
    },
    {
      "cell_type": "code",
      "execution_count": null,
      "metadata": {
        "id": "XCVssg-MnQ3P"
      },
      "outputs": [],
      "source": [
        "# Compute vector distances\n",
        "manhatten_distances = vector_df.apply(lambda row: manhattan_distance(target_row, row), axis=1)\n",
        "euclidian_distances = vector_df.apply(lambda row: euclidean_distance(target_row, row), axis=1)\n",
        "vector_df[\"manhattan_distances\"] = manhatten_distances\n",
        "vector_df[\"euclidian_distances\"] = euclidian_distances"
      ]
    },
    {
      "cell_type": "markdown",
      "metadata": {
        "id": "nOfmgqulnQ3P"
      },
      "source": [
        "### Rank the other users and get the top 3 recommended for each distance metric"
      ]
    },
    {
      "cell_type": "code",
      "execution_count": null,
      "metadata": {
        "id": "xZid2OZWnQ3P"
      },
      "outputs": [],
      "source": [
        "euclidian_distances = vector_df[\"euclidian_distances\"]\n",
        "euc_dict = euclidian_distances.to_dict()\n",
        "ordered_customers_euc =[(customer, distance) for customer, distance in euc_dict.items()]\n",
        "ordered_customers_euc.sort(key=lambda elem: elem[1])\n",
        "ordered_customers_euc[:4]\n"
      ]
    },
    {
      "cell_type": "code",
      "execution_count": null,
      "metadata": {
        "id": "5LOnOTI4nQ3P"
      },
      "outputs": [],
      "source": [
        "manhattan_distances = vector_df[\"manhattan_distances\"]\n",
        "man_dict = manhattan_distances.to_dict()\n",
        "ordered_customers_man =[(customer, distance) for customer, distance in man_dict.items()]\n",
        "ordered_customers_man.sort(key=lambda elem: elem[1])\n",
        "ordered_customers_man[:4]"
      ]
    },
    {
      "cell_type": "markdown",
      "metadata": {
        "id": "TdrEkuoYnQ3P"
      },
      "source": [
        "### Compare target user to recommended users"
      ]
    },
    {
      "cell_type": "code",
      "execution_count": null,
      "metadata": {
        "id": "zSy5WIYWnQ3P"
      },
      "outputs": [],
      "source": [
        "target_user = cash_friends.iloc[0]\n",
        "target_user"
      ]
    },
    {
      "cell_type": "code",
      "source": [
        "# Check recommender user using Euclidean distance"
      ],
      "metadata": {
        "id": "lODfpYUYU-gD"
      },
      "execution_count": null,
      "outputs": []
    },
    {
      "cell_type": "code",
      "source": [
        "recommender_user_id = ordered_customers_euc[1][0]\n",
        "recommended_user = cash_friends.iloc[recommender_user_id]\n",
        "recommended_user"
      ],
      "metadata": {
        "id": "c4m-b_nvVHz1"
      },
      "execution_count": null,
      "outputs": []
    },
    {
      "cell_type": "code",
      "source": [
        "# Check recommender user for Manhanttan distance"
      ],
      "metadata": {
        "id": "rXc2SoMpVBuf"
      },
      "execution_count": null,
      "outputs": []
    },
    {
      "cell_type": "code",
      "execution_count": null,
      "metadata": {
        "id": "6JsqSNonnQ3Q"
      },
      "outputs": [],
      "source": [
        "recommender_user_id = ordered_customers_man[1][0]\n",
        "recommended_user = cash_friends.iloc[recommender_user_id]\n",
        "recommended_user"
      ]
    }
  ],
  "metadata": {
    "colab": {
      "provenance": []
    },
    "kernelspec": {
      "display_name": "Python 3 (ipykernel)",
      "language": "python",
      "name": "python3"
    },
    "language_info": {
      "codemirror_mode": {
        "name": "ipython",
        "version": 3
      },
      "file_extension": ".py",
      "mimetype": "text/x-python",
      "name": "python",
      "nbconvert_exporter": "python",
      "pygments_lexer": "ipython3",
      "version": "3.8.0"
    }
  },
  "nbformat": 4,
  "nbformat_minor": 0
}