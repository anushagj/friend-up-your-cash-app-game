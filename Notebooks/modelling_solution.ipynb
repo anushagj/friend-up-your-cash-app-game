{
 "cells": [
  {
   "cell_type": "markdown",
   "id": "743b0844",
   "metadata": {},
   "source": [
    "# Setup "
   ]
  },
  {
   "cell_type": "code",
   "execution_count": 2,
   "id": "5b8d2184",
   "metadata": {},
   "outputs": [],
   "source": [
    "import pandas as pd\n",
    "from sklearn import preprocessing\n",
    "from scipy.spatial import distance\n"
   ]
  },
  {
   "cell_type": "markdown",
   "id": "4c62a6d3",
   "metadata": {},
   "source": [
    "# Read in cash friends dataset"
   ]
  },
  {
   "cell_type": "code",
   "execution_count": 3,
   "id": "b753b6ed",
   "metadata": {},
   "outputs": [],
   "source": [
    "cash_friends = pd.read_parquet(\"CashFriends.parquet\")"
   ]
  },
  {
   "cell_type": "markdown",
   "id": "117bd0e9",
   "metadata": {},
   "source": [
    "# Encode Cash Friends Categorical Features"
   ]
  },
  {
   "cell_type": "code",
   "execution_count": 9,
   "id": "5bf12cf7",
   "metadata": {},
   "outputs": [],
   "source": [
    "categorical_cols = [\"user_occupation\", \"most_used_cash_app_feature\"]"
   ]
  },
  {
   "cell_type": "code",
   "execution_count": 10,
   "id": "8187d521",
   "metadata": {},
   "outputs": [],
   "source": [
    "binary_cols = [\"gender\", \"cash_card_enabled\", \"direct_deposit_enabled\", \"cash_boost_used\", ]"
   ]
  },
  {
   "cell_type": "code",
   "execution_count": 11,
   "id": "f36643c2",
   "metadata": {},
   "outputs": [],
   "source": [
    "# Encode the categorical columns\n",
    "\n",
    "def encode_categorical_columns(cols, cash_friends):\n",
    "    categorical_encoders = {}\n",
    "    for col in cols:\n",
    "        label_encoder = preprocessing.LabelEncoder()\n",
    "        encoded_col = label_encoder.fit_transform(cash_friends[col].values.tolist())\n",
    "        cash_friends[col + \"_encoded\"] = encoded_col\n",
    "        categorical_encoders[col] = label_encoder\n",
    "    return cash_friends, categorical_encoders"
   ]
  },
  {
   "cell_type": "code",
   "execution_count": 12,
   "id": "7fdb9f38",
   "metadata": {},
   "outputs": [],
   "source": [
    "# Encode the binary columns\n",
    "\n",
    "def encode_binary_columns(cols, cash_friends):\n",
    "    binary_encoders = {}\n",
    "    for col in cols:\n",
    "        label_encoder = preprocessing.LabelBinarizer()\n",
    "        encoded_col = label_encoder.fit_transform(cash_friends[col].values.tolist())\n",
    "        cash_friends[col + \"_encoded\"] = encoded_col\n",
    "        binary_encoders[col] = label_encoder\n",
    "    return cash_friends, binary_encoders"
   ]
  },
  {
   "cell_type": "code",
   "execution_count": 13,
   "id": "fc0b641f",
   "metadata": {},
   "outputs": [],
   "source": [
    "# Encode the columns\n",
    "cash_friends, categorical_encoders = encode_categorical_columns(categorical_cols, cash_friends)\n",
    "cash_friends, binary_encoders = encode_binary_columns(binary_cols, cash_friends)"
   ]
  },
  {
   "cell_type": "markdown",
   "id": "fe3d3677",
   "metadata": {},
   "source": [
    "# Drop all original columns categorical & binary columns "
   ]
  },
  {
   "cell_type": "code",
   "execution_count": 19,
   "id": "1559f821",
   "metadata": {},
   "outputs": [],
   "source": [
    "# Drop non numerical columns for distance calculation\n",
    "vector_df = cash_friends.drop(columns=['user_id', 'most_interacted_user_id', 'account_creation_date', 'gender', 'cash_card_enabled', 'direct_deposit_enabled', 'cash_boost_used', 'user_occupation', 'location',\n",
    "       'most_used_cash_app_feature'])"
   ]
  },
  {
   "cell_type": "markdown",
   "id": "1a175860",
   "metadata": {},
   "source": [
    "# Compute Vector Distances "
   ]
  },
  {
   "cell_type": "code",
   "execution_count": 20,
   "id": "6b632302",
   "metadata": {},
   "outputs": [],
   "source": [
    "# use scipy distance functions\n",
    "# manhattan : distance.cityblock\n",
    "# euclidean : distance.euclidean\n",
    "\n",
    "def manhattan_distance(row1, row2):\n",
    "    return distance.cityblock(row1, row2)\n",
    "\n",
    "def euclidean_distance(row1, row2):\n",
    "    return distance.euclidean(row1, row2)\n",
    "    "
   ]
  },
  {
   "cell_type": "markdown",
   "id": "8006e6cd",
   "metadata": {},
   "source": [
    "# Lets get the top 3 recommended friends for user 0 "
   ]
  },
  {
   "cell_type": "code",
   "execution_count": 21,
   "id": "0003f44a",
   "metadata": {},
   "outputs": [],
   "source": [
    "# Using row 0 as our target row\n",
    "target_row = vector_df.iloc[0]"
   ]
  },
  {
   "cell_type": "code",
   "execution_count": 22,
   "id": "4c26948e",
   "metadata": {},
   "outputs": [],
   "source": [
    "# Compute vector distances \n",
    "manhatten_distances = vector_df.apply(lambda row: manhattan_distance(target_row, row), axis=1)\n",
    "euclidian_distances = vector_df.apply(lambda row: euclidean_distance(target_row, row), axis=1)\n",
    "vector_df[\"manhattan_distances\"] = manhatten_distances\n",
    "vector_df[\"euclidian_distances\"] = euclidian_distances"
   ]
  },
  {
   "cell_type": "markdown",
   "id": "5412e8c7",
   "metadata": {},
   "source": [
    "### Rank the other users and get the top 3 recommended for each distance metric \n"
   ]
  },
  {
   "cell_type": "code",
   "execution_count": 23,
   "id": "3a99ba5e",
   "metadata": {},
   "outputs": [
    {
     "data": {
      "text/plain": [
       "[(0, 0.0), (3236, 73.66247959443125), (3891, 122.16894040630785)]"
      ]
     },
     "execution_count": 23,
     "metadata": {},
     "output_type": "execute_result"
    }
   ],
   "source": [
    "\n",
    "euclidian_distances = vector_df[\"euclidian_distances\"]\n",
    "euc_dict = euclidian_distances.to_dict()\n",
    "ordered_customers_euc =[(customer, distance) for customer, distance in euc_dict.items()]\n",
    "ordered_customers_euc.sort(key=lambda elem: elem[1])\n",
    "ordered_customers_euc[:3]"
   ]
  },
  {
   "cell_type": "code",
   "execution_count": 24,
   "id": "48db1e6c",
   "metadata": {},
   "outputs": [
    {
     "data": {
      "text/plain": [
       "[(0, 0.0), (3236, 161.47), (3891, 207.5)]"
      ]
     },
     "execution_count": 24,
     "metadata": {},
     "output_type": "execute_result"
    }
   ],
   "source": [
    "\n",
    "manhattan_distances = vector_df[\"manhattan_distances\"]\n",
    "man_dict = manhattan_distances.to_dict()\n",
    "ordered_customers_man =[(customer, distance) for customer, distance in man_dict.items()]\n",
    "ordered_customers_man.sort(key=lambda elem: elem[1])\n",
    "ordered_customers_man[:3]"
   ]
  },
  {
   "cell_type": "code",
   "execution_count": 25,
   "id": "4732784a",
   "metadata": {},
   "outputs": [],
   "source": [
    "### Compare target user to recommended users \n"
   ]
  },
  {
   "cell_type": "code",
   "execution_count": 26,
   "id": "302a6b05",
   "metadata": {},
   "outputs": [],
   "source": [
    "target_user = cash_friends.iloc[0]"
   ]
  },
  {
   "cell_type": "code",
   "execution_count": 27,
   "id": "c0acfe6a",
   "metadata": {},
   "outputs": [
    {
     "data": {
      "text/plain": [
       "user_id                                         iqxsKVYnZY\n",
       "account_creation_date                  2018-05-31 00:00:00\n",
       "gender                                                Male\n",
       "count_num_transactions_last_yr                          13\n",
       "sum_amount_spent_all_time_usd                       1243.0\n",
       "current_cash_account_balance_usd                     616.0\n",
       "current_bitcoin_account_balance_btc                   2.78\n",
       "current_stock_account_balance_usd                   1752.0\n",
       "cash_card_enabled                                       No\n",
       "direct_deposit_enabled                                 Yes\n",
       "cash_boost_used                                         No\n",
       "most_interacted_user_index                            4689\n",
       "user_occupation                                   Engineer\n",
       "location                                              Utah\n",
       "most_used_cash_app_feature                           Boost\n",
       "user_account_age_yr                                      5\n",
       "most_interacted_user_id                         AG5Z6mJMRJ\n",
       "user_occupation_encoded                                  4\n",
       "most_used_cash_app_feature_encoded                       0\n",
       "gender_encoded                                           1\n",
       "cash_card_enabled_encoded                                0\n",
       "direct_deposit_enabled_encoded                           1\n",
       "cash_boost_used_encoded                                  0\n",
       "Name: 0, dtype: object"
      ]
     },
     "execution_count": 27,
     "metadata": {},
     "output_type": "execute_result"
    }
   ],
   "source": [
    "target_user"
   ]
  },
  {
   "cell_type": "markdown",
   "id": "24fbbf78",
   "metadata": {},
   "source": [
    "### recommended users"
   ]
  },
  {
   "cell_type": "code",
   "execution_count": 29,
   "id": "f1bb6828",
   "metadata": {},
   "outputs": [],
   "source": [
    "recommender_user_id = 3236"
   ]
  },
  {
   "cell_type": "code",
   "execution_count": 30,
   "id": "4e4a8389",
   "metadata": {},
   "outputs": [],
   "source": [
    "recommended_user = cash_friends.iloc[recommender_user_id]"
   ]
  },
  {
   "cell_type": "code",
   "execution_count": 31,
   "id": "9308e468",
   "metadata": {},
   "outputs": [
    {
     "data": {
      "text/plain": [
       "user_id                                         gGO8wyLUrx\n",
       "account_creation_date                  2014-03-02 00:00:00\n",
       "gender                                              Female\n",
       "count_num_transactions_last_yr                          23\n",
       "sum_amount_spent_all_time_usd                       1220.0\n",
       "current_cash_account_balance_usd                     564.0\n",
       "current_bitcoin_account_balance_btc                   1.31\n",
       "current_stock_account_balance_usd                   1786.0\n",
       "cash_card_enabled                                      Yes\n",
       "direct_deposit_enabled                                 Yes\n",
       "cash_boost_used                                         No\n",
       "most_interacted_user_index                            4659\n",
       "user_occupation                                 Accountant\n",
       "location                                         Tennessee\n",
       "most_used_cash_app_feature                       Cash Card\n",
       "user_account_age_yr                                      9\n",
       "most_interacted_user_id                         fz20bEBrQY\n",
       "user_occupation_encoded                                  0\n",
       "most_used_cash_app_feature_encoded                       1\n",
       "gender_encoded                                           0\n",
       "cash_card_enabled_encoded                                1\n",
       "direct_deposit_enabled_encoded                           1\n",
       "cash_boost_used_encoded                                  0\n",
       "Name: 3236, dtype: object"
      ]
     },
     "execution_count": 31,
     "metadata": {},
     "output_type": "execute_result"
    }
   ],
   "source": [
    "recommended_user"
   ]
  },
  {
   "cell_type": "code",
   "execution_count": null,
   "id": "0361642a",
   "metadata": {},
   "outputs": [],
   "source": []
  }
 ],
 "metadata": {
  "kernelspec": {
   "display_name": "Python 3 (ipykernel)",
   "language": "python",
   "name": "python3"
  },
  "language_info": {
   "codemirror_mode": {
    "name": "ipython",
    "version": 3
   },
   "file_extension": ".py",
   "mimetype": "text/x-python",
   "name": "python",
   "nbconvert_exporter": "python",
   "pygments_lexer": "ipython3",
   "version": "3.8.0"
  }
 },
 "nbformat": 4,
 "nbformat_minor": 5
}
