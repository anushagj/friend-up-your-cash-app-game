{
 "cells": [
  {
   "cell_type": "markdown",
   "id": "f24b7c87",
   "metadata": {},
   "source": [
    "# Setup "
   ]
  },
  {
   "cell_type": "code",
   "execution_count": 1,
   "id": "c566714c",
   "metadata": {},
   "outputs": [],
   "source": [
    "import pandas as pd\n",
    "from sklearn import preprocessing\n",
    "from scipy.spatial import distance\n"
   ]
  },
  {
   "cell_type": "markdown",
   "id": "9f94466c",
   "metadata": {},
   "source": [
    "# Read in cash friends dataset"
   ]
  },
  {
   "cell_type": "code",
   "execution_count": 2,
   "id": "1f918cc7",
   "metadata": {},
   "outputs": [],
   "source": [
    "cash_friends = pd.read_parquet(\"CashFriends.parquet\")"
   ]
  },
  {
   "cell_type": "markdown",
   "id": "0a26f62b",
   "metadata": {},
   "source": [
    "# Encode Cash Friends Categorical Features"
   ]
  },
  {
   "cell_type": "code",
   "execution_count": 7,
   "id": "c3ba8c8d",
   "metadata": {},
   "outputs": [],
   "source": [
    "categorical_cols = [\"user_occupation\", \"most_used_cash_app_feature\"]"
   ]
  },
  {
   "cell_type": "code",
   "execution_count": 8,
   "id": "0ab09165",
   "metadata": {},
   "outputs": [],
   "source": [
    "binary_cols = [\"gender\", \"cash_card_enabled\", \"direct_deposit_enabled\", \"cash_boost_used\", ]"
   ]
  },
  {
   "cell_type": "code",
   "execution_count": null,
   "id": "f1b3e976",
   "metadata": {},
   "outputs": [],
   "source": [
    "# Encode the categorical columns\n",
    "\n",
    "# use built in encoder preprocessing.LabelEncoder()\n",
    "def encode_categorical_columns(cols, cash_friends):\n",
    "    categorical_encoders = {}\n",
    "    # TODO: encode each categorical column and save each encoder for \n",
    "    # each column\n",
    "    # create a new column, using the current column name + suffix '_encoded'\n",
    "    # return the mapping between the columns to categorical encoders\n",
    "    return cash_friends, categorical_encoders"
   ]
  },
  {
   "cell_type": "code",
   "execution_count": null,
   "id": "1be18a29",
   "metadata": {},
   "outputs": [],
   "source": [
    "# Encode the binary columns\n",
    "\n",
    "# use built in encoder preprocessing.LabelBinarizer()\n",
    "def encode_binary_columns(cols), cash_friends:\n",
    "    binary_encoders = []\n",
    "    # TODO: encode each binary column and save each encoder for \n",
    "    # each column\n",
    "    # create a new column, using the current column name + suffix '_encoded'\n",
    "    # return the mapping between the columns to binary encoders\n",
    "    return cash_friends, binary_encoders"
   ]
  },
  {
   "cell_type": "code",
   "execution_count": null,
   "id": "b860b0d4",
   "metadata": {},
   "outputs": [],
   "source": [
    "# Encode the columns\n",
    "cash_friends, categorical_encoders = encode_categorical_columns(categorical_cols, cash_friends)\n",
    "cash_friends, binary_encoders = encode_binary_columns(binary_cols, cash_friends)"
   ]
  },
  {
   "cell_type": "markdown",
   "id": "797bb734",
   "metadata": {},
   "source": [
    "# Drop all original columns categorical & binary columns "
   ]
  },
  {
   "cell_type": "code",
   "execution_count": 14,
   "id": "572603ac",
   "metadata": {},
   "outputs": [],
   "source": [
    "# Drop non numerical columns for distance calculation\n",
    "vector_df = cash_friends.drop(columns=['user_id', 'most_interacted_user_id', 'account_creation_date', 'gender', 'cash_card_enabled', 'direct_deposit_enabled', 'cash_boost_used', 'user_occupation', 'location',\n",
    "       'most_used_cash_app_feature'])"
   ]
  },
  {
   "cell_type": "markdown",
   "id": "039eed98",
   "metadata": {},
   "source": [
    "# Compute Vector Distances "
   ]
  },
  {
   "cell_type": "code",
   "execution_count": 12,
   "id": "465360c4",
   "metadata": {},
   "outputs": [],
   "source": [
    "# use scipy distance functions\n",
    "# manhattan : distance.cityblock\n",
    "# euclidean : distance.euclidean\n",
    "\n",
    "\n",
    "def manhattan_distance(vector_1, vector_2):\n",
    "    # TODO: COMPLETE FUNCTION TO compute distance\n",
    "    # and return distance\n",
    "\n",
    "def euclidean_distance(vector_1, vector_2):\n",
    "    # TODO: COMPLETE FUNCTION TO compute distance\n",
    "    # and return distance\n",
    "    "
   ]
  },
  {
   "cell_type": "markdown",
   "id": "a2c2a90c",
   "metadata": {},
   "source": [
    "# Lets get the top 3 recommended friends for user 0 "
   ]
  },
  {
   "cell_type": "code",
   "execution_count": null,
   "id": "06d4d603",
   "metadata": {},
   "outputs": [],
   "source": [
    "# Using row 0 as our target row\n",
    "target_row = vector_df.iloc[0]"
   ]
  },
  {
   "cell_type": "code",
   "execution_count": null,
   "id": "24ee1084",
   "metadata": {},
   "outputs": [],
   "source": [
    "# Compute vector distances \n",
    "manhatten_distances = vector_df.apply(lambda row: manhattan_distance(target_row, row), axis=1)\n",
    "euclidian_distances = vector_df.apply(lambda row: euclidean_distance(target_row, row), axis=1)\n",
    "vector_df[\"manhattan_distances\"] = manhatten_distances\n",
    "vector_df[\"euclidian_distances\"] = euclidian_distances"
   ]
  },
  {
   "cell_type": "markdown",
   "id": "1dc475a4",
   "metadata": {},
   "source": [
    "### Rank the other users and get the top 3 recommended for each distance metric \n"
   ]
  },
  {
   "cell_type": "code",
   "execution_count": null,
   "id": "4d748fe3",
   "metadata": {},
   "outputs": [],
   "source": [
    "\n",
    "euclidian_distances = vector_df[\"euclidian_distances\"]\n",
    "euc_dict = euclidian_distances.to_dict()\n",
    "ordered_customers_euc =[(customer, distance) for customer, distance in euc_dict.items()]\n",
    "ordered_customers_euc.sort(key=lambda elem: elem[1])\n",
    "ordered_customers_euc[:4]"
   ]
  },
  {
   "cell_type": "code",
   "execution_count": null,
   "id": "e57bf7d7",
   "metadata": {},
   "outputs": [],
   "source": [
    "\n",
    "manhattan_distances = vector_df[\"manhattan_distances\"]\n",
    "man_dict = manhattan_distances.to_dict()\n",
    "ordered_customers_man =[(customer, distance) for customer, distance in man_dict.items()]\n",
    "ordered_customers_man.sort(key=lambda elem: elem[1])\n",
    "ordered_customers_man[:4]\n"
   ]
  },
  {
   "cell_type": "markdown",
   "id": "026009c4",
   "metadata": {},
   "source": [
    "### Compare target user to recommended users \n"
   ]
  },
  {
   "cell_type": "code",
   "execution_count": 16,
   "id": "a312aa30",
   "metadata": {},
   "outputs": [],
   "source": [
    "target_user = cash_friends.iloc[0]"
   ]
  },
  {
   "cell_type": "code",
   "execution_count": null,
   "id": "8daa5a6b",
   "metadata": {},
   "outputs": [],
   "source": [
    "target_user"
   ]
  },
  {
   "cell_type": "markdown",
   "id": "12035cc9",
   "metadata": {},
   "source": [
    "### recommended users"
   ]
  },
  {
   "cell_type": "code",
   "execution_count": null,
   "id": "929b66c1",
   "metadata": {},
   "outputs": [],
   "source": [
    "recommender_user_id = ..."
   ]
  },
  {
   "cell_type": "code",
   "execution_count": null,
   "id": "9579d13c",
   "metadata": {},
   "outputs": [],
   "source": [
    "recommended_user = cash_friends.iloc[recommender_user_id]"
   ]
  },
  {
   "cell_type": "code",
   "execution_count": null,
   "id": "9e7ff72f",
   "metadata": {
    "jupyter": {
     "source_hidden": true
    }
   },
   "outputs": [],
   "source": [
    "recommended_user"
   ]
  }
 ],
 "metadata": {
  "kernelspec": {
   "display_name": "Python 3 (ipykernel)",
   "language": "python",
   "name": "python3"
  },
  "language_info": {
   "codemirror_mode": {
    "name": "ipython",
    "version": 3
   },
   "file_extension": ".py",
   "mimetype": "text/x-python",
   "name": "python",
   "nbconvert_exporter": "python",
   "pygments_lexer": "ipython3",
   "version": "3.8.0"
  }
 },
 "nbformat": 4,
 "nbformat_minor": 5
}
